{
 "cells": [
  {
   "cell_type": "markdown",
   "metadata": {
    "slideshow": {
     "slide_type": "slide"
    }
   },
   "source": [
    "# (Single-fidelity) Gaussian process regression (GPR) benchmark with Hydra and f3dasm"
   ]
  },
  {
   "cell_type": "markdown",
   "metadata": {
    "slideshow": {
     "slide_type": "skip"
    }
   },
   "source": [
    "## 0. Goal of this notebook\n",
    "This notebook serves to answer the following questions in order:\n",
    "1. How do I generate the single-fidelity component of the benchmark data that is presented in the GPR benchmark of our multi-fidelity review paper?\n",
    "2. How do I process and visualize the generated benchmark data?"
   ]
  },
  {
   "cell_type": "markdown",
   "metadata": {
    "slideshow": {
     "slide_type": "slide"
    }
   },
   "source": [
    "## 1. Running the benchmark"
   ]
  },
  {
   "cell_type": "markdown",
   "metadata": {
    "slideshow": {
     "slide_type": "skip"
    }
   },
   "source": [
    "There is a dedicated folder containing all files that are required to run the benchmark. \n",
    "\n",
    "The benchmark is powered by the `hydra` configuration library.\n",
    "\n",
    "With respect to this notebook, the experiment can be found under:"
   ]
  },
  {
   "cell_type": "code",
   "execution_count": 1,
   "metadata": {
    "slideshow": {
     "slide_type": "fragment"
    }
   },
   "outputs": [],
   "source": [
    "benchmark_rel_path = '../../../experiments/benchmark_gpr/'"
   ]
  },
  {
   "cell_type": "markdown",
   "metadata": {
    "slideshow": {
     "slide_type": "skip"
    }
   },
   "source": [
    "Executing the following command generates the output."
   ]
  },
  {
   "cell_type": "code",
   "execution_count": 2,
   "metadata": {
    "slideshow": {
     "slide_type": "fragment"
    }
   },
   "outputs": [],
   "source": [
    "cmdl = 'python3 ' + benchmark_rel_path + 'main.py'"
   ]
  },
  {
   "attachments": {},
   "cell_type": "markdown",
   "metadata": {
    "slideshow": {
     "slide_type": "skip"
    }
   },
   "source": [
    "Change the following value to `True` if you want to generate the full output, instead of running a smoke test (**Warning**: this might take some time to run).\n",
    "\n",
    "The settings of the smoke test can be found and edited [here](../../../experiments/benchmark_gpr/default.yaml).\n"
   ]
  },
  {
   "cell_type": "code",
   "execution_count": 3,
   "metadata": {
    "slideshow": {
     "slide_type": "fragment"
    }
   },
   "outputs": [],
   "source": [
    "full_output = True\n",
    "\n",
    "if not full_output:\n",
    "    cmdl += ' --config-name default'"
   ]
  },
  {
   "cell_type": "markdown",
   "metadata": {
    "slideshow": {
     "slide_type": "skip"
    }
   },
   "source": [
    "Let's run the command:"
   ]
  },
  {
   "cell_type": "code",
   "execution_count": 4,
   "metadata": {
    "slideshow": {
     "slide_type": "subslide"
    }
   },
   "outputs": [
    {
     "name": "stderr",
     "output_type": "stream",
     "text": [
      "2023-03-09 15:49:10.671776: I tensorflow/core/platform/cpu_feature_guard.cc:193] This TensorFlow binary is optimized with oneAPI Deep Neural Network Library (oneDNN) to use the following CPU instructions in performance-critical operations:  AVX2 FMA\n",
      "To enable them in other operations, rebuild TensorFlow with the appropriate compiler flags.\n",
      "2023-03-09 15:49:10.799167: W tensorflow/compiler/xla/stream_executor/platform/default/dso_loader.cc:64] Could not load dynamic library 'libcudart.so.11.0'; dlerror: libcudart.so.11.0: cannot open shared object file: No such file or directory\n",
      "2023-03-09 15:49:10.799188: I tensorflow/compiler/xla/stream_executor/cuda/cudart_stub.cc:29] Ignore above cudart dlerror if you do not have a GPU set up on your machine.\n",
      "2023-03-09 15:49:11.403753: W tensorflow/compiler/xla/stream_executor/platform/default/dso_loader.cc:64] Could not load dynamic library 'libnvinfer.so.7'; dlerror: libnvinfer.so.7: cannot open shared object file: No such file or directory\n",
      "2023-03-09 15:49:11.403804: W tensorflow/compiler/xla/stream_executor/platform/default/dso_loader.cc:64] Could not load dynamic library 'libnvinfer_plugin.so.7'; dlerror: libnvinfer_plugin.so.7: cannot open shared object file: No such file or directory\n",
      "2023-03-09 15:49:11.403811: W tensorflow/compiler/tf2tensorrt/utils/py_utils.cc:38] TF-TRT Warning: Cannot dlopen some TensorRT libraries. If you would like to use Nvidia GPU with TensorRT, please make sure the missing libraries mentioned above are installed properly.\n"
     ]
    },
    {
     "name": "stdout",
     "output_type": "stream",
     "text": [
      "warning in stationary: failed to import cython module: falling back to numpy\n",
      "warning in coregionalize: failed to import cython module: falling back to numpy\n",
      "warning in choleskies: failed to import cython module: falling back to numpy\n",
      "[2023-03-09 15:49:17,512][HYDRA] Launching 30 jobs locally\n",
      "[2023-03-09 15:49:17,512][HYDRA] \t#0 : +trial_number=0 +dimensionality=1\n"
     ]
    },
    {
     "name": "stderr",
     "output_type": "stream",
     "text": [
      "2023-03-09 15:49:17.656377: I tensorflow/compiler/xla/stream_executor/cuda/cuda_gpu_executor.cc:981] successful NUMA node read from SysFS had negative value (-1), but there must be at least one NUMA node, so returning NUMA node zero\n",
      "2023-03-09 15:49:17.656704: W tensorflow/compiler/xla/stream_executor/platform/default/dso_loader.cc:64] Could not load dynamic library 'libcufft.so.10'; dlerror: libcufft.so.10: cannot open shared object file: No such file or directory\n",
      "2023-03-09 15:49:17.656756: W tensorflow/compiler/xla/stream_executor/platform/default/dso_loader.cc:64] Could not load dynamic library 'libcurand.so.10'; dlerror: libcurand.so.10: cannot open shared object file: No such file or directory\n",
      "2023-03-09 15:49:17.656798: W tensorflow/compiler/xla/stream_executor/platform/default/dso_loader.cc:64] Could not load dynamic library 'libcusolver.so.11'; dlerror: libcusolver.so.11: cannot open shared object file: No such file or directory\n",
      "2023-03-09 15:49:17.656835: W tensorflow/compiler/xla/stream_executor/platform/default/dso_loader.cc:64] Could not load dynamic library 'libcusparse.so.11'; dlerror: libcusparse.so.11: cannot open shared object file: No such file or directory\n",
      "2023-03-09 15:49:17.656867: W tensorflow/core/common_runtime/gpu/gpu_device.cc:1934] Cannot dlopen some GPU libraries. Please make sure the missing libraries mentioned above are installed properly if you would like to use GPU. Follow the guide at https://www.tensorflow.org/install/gpu for how to download and setup the required libraries for your platform.\n",
      "Skipping registering GPU devices...\n",
      "2023-03-09 15:49:17.657229: I tensorflow/core/platform/cpu_feature_guard.cc:193] This TensorFlow binary is optimized with oneAPI Deep Neural Network Library (oneDNN) to use the following CPU instructions in performance-critical operations:  AVX2 FMA\n",
      "To enable them in other operations, rebuild TensorFlow with the appropriate compiler flags.\n"
     ]
    },
    {
     "name": "stdout",
     "output_type": "stream",
     "text": [
      "[2023-03-09 15:49:24,487][HYDRA] \t#1 : +trial_number=0 +dimensionality=2\n",
      "[2023-03-09 15:49:31,479][HYDRA] \t#2 : +trial_number=0 +dimensionality=3\n",
      "[2023-03-09 15:49:41,335][HYDRA] \t#3 : +trial_number=1 +dimensionality=1\n",
      "[2023-03-09 15:49:47,860][HYDRA] \t#4 : +trial_number=1 +dimensionality=2\n",
      "[2023-03-09 15:49:54,797][HYDRA] \t#5 : +trial_number=1 +dimensionality=3\n",
      "[2023-03-09 15:50:05,038][HYDRA] \t#6 : +trial_number=2 +dimensionality=1\n",
      "[2023-03-09 15:50:12,195][HYDRA] \t#7 : +trial_number=2 +dimensionality=2\n",
      "[2023-03-09 15:50:19,866][HYDRA] \t#8 : +trial_number=2 +dimensionality=3\n",
      "[2023-03-09 15:50:30,756][HYDRA] \t#9 : +trial_number=3 +dimensionality=1\n",
      "[2023-03-09 15:50:37,948][HYDRA] \t#10 : +trial_number=3 +dimensionality=2\n",
      "[2023-03-09 15:50:45,036][HYDRA] \t#11 : +trial_number=3 +dimensionality=3\n",
      "[2023-03-09 15:50:54,366][HYDRA] \t#12 : +trial_number=4 +dimensionality=1\n",
      "[2023-03-09 15:51:00,890][HYDRA] \t#13 : +trial_number=4 +dimensionality=2\n",
      "[2023-03-09 15:51:07,750][HYDRA] \t#14 : +trial_number=4 +dimensionality=3\n",
      "[2023-03-09 15:51:17,395][HYDRA] \t#15 : +trial_number=5 +dimensionality=1\n",
      "[2023-03-09 15:51:24,013][HYDRA] \t#16 : +trial_number=5 +dimensionality=2\n",
      "[2023-03-09 15:51:31,126][HYDRA] \t#17 : +trial_number=5 +dimensionality=3\n",
      "[2023-03-09 15:51:40,903][HYDRA] \t#18 : +trial_number=6 +dimensionality=1\n",
      "[2023-03-09 15:51:47,576][HYDRA] \t#19 : +trial_number=6 +dimensionality=2\n",
      "[2023-03-09 15:51:54,510][HYDRA] \t#20 : +trial_number=6 +dimensionality=3\n",
      "[2023-03-09 15:52:04,304][HYDRA] \t#21 : +trial_number=7 +dimensionality=1\n",
      "[2023-03-09 15:52:11,617][HYDRA] \t#22 : +trial_number=7 +dimensionality=2\n",
      "[2023-03-09 15:52:18,667][HYDRA] \t#23 : +trial_number=7 +dimensionality=3\n",
      "[2023-03-09 15:52:29,223][HYDRA] \t#24 : +trial_number=8 +dimensionality=1\n",
      "[2023-03-09 15:52:36,076][HYDRA] \t#25 : +trial_number=8 +dimensionality=2\n",
      "[2023-03-09 15:52:43,603][HYDRA] \t#26 : +trial_number=8 +dimensionality=3\n",
      "[2023-03-09 15:52:54,391][HYDRA] \t#27 : +trial_number=9 +dimensionality=1\n",
      "[2023-03-09 15:53:01,922][HYDRA] \t#28 : +trial_number=9 +dimensionality=2\n",
      "[2023-03-09 15:53:09,756][HYDRA] \t#29 : +trial_number=9 +dimensionality=3\n"
     ]
    },
    {
     "data": {
      "text/plain": [
       "0"
      ]
     },
     "execution_count": 4,
     "metadata": {},
     "output_type": "execute_result"
    }
   ],
   "source": [
    "import os\n",
    "os.system(command=cmdl)"
   ]
  },
  {
   "attachments": {},
   "cell_type": "markdown",
   "metadata": {
    "slideshow": {
     "slide_type": "skip"
    }
   },
   "source": [
    "The output results can be found [here](outputs/default/Sogpr/)."
   ]
  },
  {
   "cell_type": "markdown",
   "metadata": {
    "slideshow": {
     "slide_type": "slide"
    }
   },
   "source": [
    "## 2. Visualizing the benchmark\n",
    "Under construction..."
   ]
  }
 ],
 "metadata": {
  "celltoolbar": "Slideshow",
  "kernelspec": {
   "display_name": "Python 3 (ipykernel)",
   "language": "python",
   "name": "python3"
  },
  "language_info": {
   "codemirror_mode": {
    "name": "ipython",
    "version": 3
   },
   "file_extension": ".py",
   "mimetype": "text/x-python",
   "name": "python",
   "nbconvert_exporter": "python",
   "pygments_lexer": "ipython3",
   "version": "3.10.6"
  },
  "vscode": {
   "interpreter": {
    "hash": "a9d896b1e26959336e7f4be8af34f758934959c162bfe59669aabbaab50cee31"
   }
  }
 },
 "nbformat": 4,
 "nbformat_minor": 2
}
