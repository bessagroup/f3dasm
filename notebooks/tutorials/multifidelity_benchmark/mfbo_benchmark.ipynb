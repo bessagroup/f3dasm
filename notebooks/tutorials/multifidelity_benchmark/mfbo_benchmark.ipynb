{
 "cells": [
  {
   "attachments": {},
   "cell_type": "markdown",
   "metadata": {},
   "source": [
    "# Multi-fidelity Bayesian optimization (MFBO) benchmark with Hydra in F3DASM"
   ]
  },
  {
   "attachments": {},
   "cell_type": "markdown",
   "metadata": {},
   "source": [
    "## 0. Goal of this notebook\n",
    "This notebook serves to answer the following questions in order:\n",
    "1. Which Python packages do I need to import in order to perform a MFBO benchmark in F3DASM, and why?\n",
    "2. How do I generate the data that is shown in the MFBO benchmark of our multi-fidelity review paper [REFERENCE]?\n",
    "3. How do I process and visualize the generated benchmark data?"
   ]
  }
 ],
 "metadata": {
  "kernelspec": {
   "display_name": "f3dasm_env",
   "language": "python",
   "name": "python3"
  },
  "language_info": {
   "name": "python",
   "version": "3.10.6"
  },
  "orig_nbformat": 4,
  "vscode": {
   "interpreter": {
    "hash": "a9d896b1e26959336e7f4be8af34f758934959c162bfe59669aabbaab50cee31"
   }
  }
 },
 "nbformat": 4,
 "nbformat_minor": 2
}
