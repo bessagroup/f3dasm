{
 "cells": [
  {
   "cell_type": "markdown",
   "metadata": {
    "slideshow": {
     "slide_type": "slide"
    }
   },
   "source": [
    "# Practical session demo\n",
    "\n",
    "We are going to take a look at the different functionalities:\n",
    "* Create a design of experiments\n",
    "* Sample from this space\n",
    "* Evaluate the samples using a well-known benchmark function\n",
    "* Iteratively find the minimum of the loss-landscape using an optimizer\n",
    "* Look at how we can optimize a loss-function incorporating multiple realizations"
   ]
  },
  {
   "cell_type": "markdown",
   "metadata": {
    "slideshow": {
     "slide_type": "fragment"
    }
   },
   "source": [
    "First things first, import the `f3dasm` package, and some other packages:"
   ]
  },
  {
   "cell_type": "code",
   "execution_count": 1,
   "metadata": {
    "slideshow": {
     "slide_type": "fragment"
    }
   },
   "outputs": [
    {
     "name": "stderr",
     "output_type": "stream",
     "text": [
      "2022-11-03 15:52:10.870032: I tensorflow/core/util/util.cc:169] oneDNN custom operations are on. You may see slightly different numerical results due to floating-point round-off errors from different computation orders. To turn them off, set the environment variable `TF_ENABLE_ONEDNN_OPTS=0`.\n"
     ]
    }
   ],
   "source": [
    "import f3dasm\n",
    "\n",
    "import numpy as np\n",
    "import pandas as pd\n",
    "import matplotlib.pyplot as plt\n",
    "import copy\n",
    "import pytest\n",
    "from cycler import cycler\n",
    "\n",
    "# After you import f3dasm, you will see a tensorflow information/warning message. If you know how to get rid of this, please let me know!"
   ]
  },
  {
   "cell_type": "markdown",
   "metadata": {
    "slideshow": {
     "slide_type": "fragment"
    }
   },
   "source": [
    "make sure that we specify a `seed` for all the random number generators:"
   ]
  },
  {
   "cell_type": "code",
   "execution_count": 2,
   "metadata": {
    "slideshow": {
     "slide_type": "fragment"
    }
   },
   "outputs": [],
   "source": [
    "seed = 42"
   ]
  },
  {
   "cell_type": "markdown",
   "metadata": {
    "slideshow": {
     "slide_type": "slide"
    }
   },
   "source": [
    "### Design: Creating the design space"
   ]
  },
  {
   "cell_type": "markdown",
   "metadata": {},
   "source": [
    "**Parameters**\n",
    "\n",
    "There are three different parameters you can construct:\n",
    "* We can create continuous parameters with a `lower_bound` and `upper_bound` (optional) with the `f3dasm.ContinuousParameter` class\n",
    "* We can create discrete parameters with a `lower_bound` and `upper_bound` with the `f3dasm.DiscreteParameter` class\n",
    "* We can create categorical parameters with a list of strings (categories) with the `f3dasm.CategoricalParameter` class\n",
    "\n",
    "all parameters also require a `name`.\n",
    "\n",
    "**Design space**\n",
    "\n",
    "Parameters define the `f3dasm.DesignSpace` and can be constructed by calling the `f3dasm.DesignSpace` class and providing:\n",
    "* a list of input parameters (`input_space`) \n",
    "* a list of output parameters (`output_space`)\n"
   ]
  },
  {
   "cell_type": "markdown",
   "metadata": {},
   "source": [
    "***\n",
    "**Exercise #1**\n",
    "\n",
    "Create a `DesignSpace` with the following features:\n",
    "* 2 continuous input parameters named `x0` and `x1`, both with the same range of `-1.0` to `1.0`\n",
    "* 1 continuous output parameter named `y`\n",
    "* Call this designspace `design`\n",
    "***"
   ]
  },
  {
   "cell_type": "code",
   "execution_count": 3,
   "metadata": {},
   "outputs": [],
   "source": [
    "## YOUR CODE HERE ##"
   ]
  },
  {
   "cell_type": "code",
   "execution_count": 4,
   "metadata": {},
   "outputs": [],
   "source": [
    "## SOLUTION ##\n",
    "\n",
    "# Input parameters\n",
    "x1 = f3dasm.ContinuousParameter(name=\"x0\", lower_bound=-1., upper_bound=1.)\n",
    "x2 = f3dasm.ContinuousParameter(name=\"x1\", lower_bound=-1., upper_bound=1.)\n",
    "\n",
    "# Output parameters\n",
    "y = f3dasm.ContinuousParameter(name=\"y\")\n",
    "\n",
    "# Create lists of parameters\n",
    "input_space = [x1, x2]\n",
    "output_space = [y]\n",
    "\n",
    "# Construct the design space\n",
    "design = f3dasm.DesignSpace(input_space=input_space, output_space=output_space)"
   ]
  },
  {
   "cell_type": "code",
   "execution_count": 5,
   "metadata": {},
   "outputs": [],
   "source": [
    "## CHECK ##\n",
    "\n",
    "assert design == f3dasm.make_nd_continuous_design(bounds=np.tile([-1., 1.], (2,1)), dimensionality=2)"
   ]
  },
  {
   "cell_type": "markdown",
   "metadata": {
    "slideshow": {
     "slide_type": "fragment"
    }
   },
   "source": [
    "What's next? We can sample from this design space with the **sampling** block!"
   ]
  },
  {
   "cell_type": "markdown",
   "metadata": {
    "slideshow": {
     "slide_type": "slide"
    }
   },
   "source": [
    "### Sampling: Latin Hypercube Sampler"
   ]
  },
  {
   "cell_type": "markdown",
   "metadata": {},
   "source": [
    "Samplers can be found within the submodule `f3dasm.sampling`. Currently 3 samplers are readily available:\n",
    "* Random Uniform Sampling (`f3dasm.sampling.RandomUniformSampling`)\n",
    "* Latin Hypercube Sampling(`f3dasm.sampling.LatinHypercubeSampling`)\n",
    "* Sobol Sequence Sampling (`f3dasm.sampling.SobolSequenceSampling`)\n",
    "\n",
    "**Creating a sampler object**\n",
    "A new sampler can be created by initializing the sampler with:\n",
    "* A design space\n",
    "* A random seed (optional)\n",
    "\n",
    "After that, you can sample by invoking the `get_samples(numsamples)`, where `numsamples` is the number of samples you want to get"
   ]
  },
  {
   "cell_type": "markdown",
   "metadata": {},
   "source": [
    "***\n",
    "<b>Exercise #2</b>\n",
    "\n",
    "Now you are going to create a sampler and sample some points from the designspace:\n",
    "* Create a <u>Random Uniform sampling</u> with the designspace and seed described above\n",
    "* Sample 30 points from the designspace\n",
    "* Store the resulting `Data`-object in the variable `samples_random`\n",
    "* Do the same with <u>Latin Hypercube sampling</u> and store the samples as `samples_lhs`\n",
    "***"
   ]
  },
  {
   "cell_type": "code",
   "execution_count": 6,
   "metadata": {},
   "outputs": [],
   "source": [
    "## YOUR CODE HERE ##\n",
    "\n",
    "\n",
    "\n",
    "# If you are stuck you may uncomment the following lines to import the data object directly:\n",
    "# samples_lhs = f3dasm.read_pickle('exercise_samples_lhs')\n",
    "# samples_random = f3dasm.read_pickle('exercise_samples_random')"
   ]
  },
  {
   "cell_type": "code",
   "execution_count": 7,
   "metadata": {},
   "outputs": [],
   "source": [
    "## SOLUTION ##\n",
    "\n",
    "# Construct sampler\n",
    "random_sampler = f3dasm.sampling.RandomUniform(design=design,seed=seed)\n",
    "lhs_sampler = f3dasm.sampling.LatinHypercube(design=design, seed=seed)\n",
    "\n",
    "N = 30 # Number of samples\n",
    "\n",
    "# Get samples\n",
    "samples_random = random_sampler.get_samples(numsamples=N)\n",
    "samples_lhs = lhs_sampler.get_samples(numsamples=N)\n",
    "\n",
    "# f3dasm.write_pickle('exercise_samples_lhs', samples_lhs)\n",
    "# f3dasm.write_pickle('exercise_samples_random', samples_random)"
   ]
  },
  {
   "cell_type": "code",
   "execution_count": 8,
   "metadata": {},
   "outputs": [
    {
     "ename": "FileNotFoundError",
     "evalue": "[Errno 2] No such file or directory: 'exercise_samples_lhs.obj'",
     "output_type": "error",
     "traceback": [
      "\u001b[0;31m---------------------------------------------------------------------------\u001b[0m",
      "\u001b[0;31mFileNotFoundError\u001b[0m                         Traceback (most recent call last)",
      "\u001b[1;32m/home/martin/Documents/GitHub/F3DASM/notebooks/tutorials/practical_session_solutions.ipynb Cell 18\u001b[0m in \u001b[0;36m<cell line: 3>\u001b[0;34m()\u001b[0m\n\u001b[1;32m      <a href='vscode-notebook-cell:/home/martin/Documents/GitHub/F3DASM/notebooks/tutorials/practical_session_solutions.ipynb#X23sZmlsZQ%3D%3D?line=0'>1</a>\u001b[0m \u001b[39m## CHECK ##\u001b[39;00m\n\u001b[0;32m----> <a href='vscode-notebook-cell:/home/martin/Documents/GitHub/F3DASM/notebooks/tutorials/practical_session_solutions.ipynb#X23sZmlsZQ%3D%3D?line=2'>3</a>\u001b[0m \u001b[39massert\u001b[39;00m samples_lhs\u001b[39m.\u001b[39mdata\u001b[39m.\u001b[39mequals(f3dasm\u001b[39m.\u001b[39;49mread_pickle(\u001b[39m'\u001b[39;49m\u001b[39mexercise_samples_lhs\u001b[39;49m\u001b[39m'\u001b[39;49m)\u001b[39m.\u001b[39mdata)\n\u001b[1;32m      <a href='vscode-notebook-cell:/home/martin/Documents/GitHub/F3DASM/notebooks/tutorials/practical_session_solutions.ipynb#X23sZmlsZQ%3D%3D?line=3'>4</a>\u001b[0m \u001b[39massert\u001b[39;00m samples_random\u001b[39m.\u001b[39mdata\u001b[39m.\u001b[39mequals(f3dasm\u001b[39m.\u001b[39mread_pickle(\u001b[39m'\u001b[39m\u001b[39mexercise_samples_random\u001b[39m\u001b[39m'\u001b[39m)\u001b[39m.\u001b[39mdata)\n",
      "File \u001b[0;32m~/Documents/GitHub/F3DASM/f3dasm/base/utils.py:59\u001b[0m, in \u001b[0;36mread_pickle\u001b[0;34m(name)\u001b[0m\n\u001b[1;32m     50\u001b[0m \u001b[39mdef\u001b[39;00m \u001b[39mread_pickle\u001b[39m(name: \u001b[39mstr\u001b[39m) \u001b[39m-\u001b[39m\u001b[39m>\u001b[39m Any:\n\u001b[1;32m     51\u001b[0m     \u001b[39m\"\"\"read an pickled object to memory\u001b[39;00m\n\u001b[1;32m     52\u001b[0m \n\u001b[1;32m     53\u001b[0m \u001b[39m    Args:\u001b[39;00m\n\u001b[0;32m   (...)\u001b[0m\n\u001b[1;32m     57\u001b[0m \u001b[39m        Any: object\u001b[39;00m\n\u001b[1;32m     58\u001b[0m \u001b[39m    \"\"\"\u001b[39;00m\n\u001b[0;32m---> 59\u001b[0m     \u001b[39mwith\u001b[39;00m \u001b[39mopen\u001b[39;49m(\u001b[39mf\u001b[39;49m\u001b[39m\"\u001b[39;49m\u001b[39m{\u001b[39;49;00mname\u001b[39m}\u001b[39;49;00m\u001b[39m.obj\u001b[39;49m\u001b[39m\"\u001b[39;49m, \u001b[39m\"\u001b[39;49m\u001b[39mrb\u001b[39;49m\u001b[39m\"\u001b[39;49m) \u001b[39mas\u001b[39;00m f:\n\u001b[1;32m     60\u001b[0m         obj \u001b[39m=\u001b[39m pickle\u001b[39m.\u001b[39mload(f)\n\u001b[1;32m     61\u001b[0m     \u001b[39mreturn\u001b[39;00m obj\n",
      "\u001b[0;31mFileNotFoundError\u001b[0m: [Errno 2] No such file or directory: 'exercise_samples_lhs.obj'"
     ]
    }
   ],
   "source": [
    "## CHECK ##\n",
    "\n",
    "assert samples_lhs.data.equals(f3dasm.read_pickle('exercise_samples_lhs').data)\n",
    "assert samples_random.data.equals(f3dasm.read_pickle('exercise_samples_random').data)"
   ]
  },
  {
   "cell_type": "markdown",
   "metadata": {
    "slideshow": {
     "slide_type": "slide"
    }
   },
   "source": [
    "We can plot the datapoints with the `data.plot()` function:"
   ]
  },
  {
   "cell_type": "code",
   "execution_count": null,
   "metadata": {
    "slideshow": {
     "slide_type": "fragment"
    }
   },
   "outputs": [],
   "source": [
    "fig, ax = samples_lhs.plot(input_par1='x0', input_par2='x1')"
   ]
  },
  {
   "cell_type": "code",
   "execution_count": null,
   "metadata": {},
   "outputs": [],
   "source": [
    "samples_random.data"
   ]
  },
  {
   "cell_type": "markdown",
   "metadata": {
    "slideshow": {
     "slide_type": "fragment"
    }
   },
   "source": [
    "As you could see earlier, the output values are all `NaN`. Let's evaluate the samples with a benchmark function from the **simulation** block!"
   ]
  },
  {
   "cell_type": "markdown",
   "metadata": {
    "slideshow": {
     "slide_type": "slide"
    }
   },
   "source": [
    "### Simulation: Evaluating a benchmark function"
   ]
  },
  {
   "cell_type": "markdown",
   "metadata": {
    "slideshow": {
     "slide_type": "fragment"
    }
   },
   "source": [
    "Several benchmark functions have been implemented in the submodule `f3dasm.functions` to work with **continuous and single-objective** optimization problems.\n",
    "\n",
    "These functions require an input-vector $\\mathbf{x}$ and output a scalar $f(\\mathbf{x})$\n",
    "\n",
    "The `Levy()` function is a well-known, multimodal function:\n",
    "\n",
    "$f(\\textbf{x}) = \\sin^2 (\\pi w_1) + \\sum_{i = 1}^{D - 1} (w_i - 1)^2 \\left( 1 + 10 \\sin^2 (\\pi w_i + 1) \\right) + (w_d - 1)^2 (1 + \\sin^2 (2 \\pi w_d)) \\\\ w_i = 1 + \\frac{x_i - 1}{4}`\n",
    "$\n"
   ]
  },
  {
   "cell_type": "markdown",
   "metadata": {
    "slideshow": {
     "slide_type": "fragment"
    }
   },
   "source": [
    "First we create such a function `f` by creating an object from the `f3dasm.functions.Levy` class\n",
    "\n",
    "> *The original input domain is (-10, 10), but we scale these boundaries to the boundaries our input space*"
   ]
  },
  {
   "cell_type": "code",
   "execution_count": null,
   "metadata": {},
   "outputs": [],
   "source": [
    "dim = 2\n",
    "domain = np.tile([-1., 1.], (dim,1))"
   ]
  },
  {
   "cell_type": "code",
   "execution_count": null,
   "metadata": {
    "slideshow": {
     "slide_type": "fragment"
    }
   },
   "outputs": [],
   "source": [
    "f = f3dasm.functions.Levy(dimensionality=dim, seed=seed, scale_bounds=domain)"
   ]
  },
  {
   "cell_type": "markdown",
   "metadata": {
    "slideshow": {
     "slide_type": "slide"
    }
   },
   "source": [
    "The global minima are known for these functions and can be accesed by the `get_global_minimum()` function:"
   ]
  },
  {
   "cell_type": "code",
   "execution_count": null,
   "metadata": {
    "slideshow": {
     "slide_type": "fragment"
    }
   },
   "outputs": [],
   "source": [
    "x_min, y_min = f.get_global_minimum(dim)\n",
    "print(f\"The global minimum is {y_min} at position {x_min}\")"
   ]
  },
  {
   "cell_type": "markdown",
   "metadata": {
    "slideshow": {
     "slide_type": "fragment"
    }
   },
   "source": [
    "We can plot a three-dimensional loss-landscape of the two input parameters $x_0$ and $x_1$ with the `plot()` function:\n",
    "* `px` denotes the resolution on each axis\n",
    "* `domain` denotes the domain of the two axis to be plotted"
   ]
  },
  {
   "cell_type": "code",
   "execution_count": null,
   "metadata": {
    "slideshow": {
     "slide_type": "slide"
    }
   },
   "outputs": [],
   "source": [
    "fig, ax = f.plot(px=100, domain=domain)"
   ]
  },
  {
   "cell_type": "markdown",
   "metadata": {
    "slideshow": {
     "slide_type": "slide"
    }
   },
   "source": [
    "Evaluating the function is easy, just pass either:\n",
    "* the `Data()` object to it: `get_input_data()`\n",
    "* or a 2D numpy array: `get_input_data().to_numpy()`\n",
    "\n",
    ".. and all the samples will be evaluated.\n",
    "The output will be a `np.ndarray`"
   ]
  },
  {
   "cell_type": "code",
   "execution_count": null,
   "metadata": {
    "slideshow": {
     "slide_type": "fragment"
    }
   },
   "outputs": [],
   "source": [
    "x = samples_lhs.get_input_data()"
   ]
  },
  {
   "cell_type": "markdown",
   "metadata": {
    "slideshow": {
     "slide_type": "fragment"
    }
   },
   "source": [
    "By calling the `add_output` option, we can add individual columns or overwrite data to our DataFrame:"
   ]
  },
  {
   "cell_type": "code",
   "execution_count": null,
   "metadata": {
    "slideshow": {
     "slide_type": "slide"
    }
   },
   "outputs": [],
   "source": [
    "samples_lhs.add_output(output=f(x))"
   ]
  },
  {
   "cell_type": "code",
   "execution_count": null,
   "metadata": {
    "slideshow": {
     "slide_type": "fragment"
    }
   },
   "outputs": [],
   "source": [
    "samples_lhs.show()"
   ]
  },
  {
   "cell_type": "markdown",
   "metadata": {},
   "source": [
    "Let's store these samples under a new name `data`:"
   ]
  },
  {
   "cell_type": "markdown",
   "metadata": {
    "slideshow": {
     "slide_type": "slide"
    }
   },
   "source": [
    "We can create a contour plot with the samples coordinates with the `plot_data()` function: "
   ]
  },
  {
   "cell_type": "code",
   "execution_count": null,
   "metadata": {
    "scrolled": true,
    "slideshow": {
     "slide_type": "fragment"
    }
   },
   "outputs": [],
   "source": [
    "fig, ax = f.plot_data(samples_lhs,px=300,domain=domain)"
   ]
  },
  {
   "cell_type": "markdown",
   "metadata": {
    "slideshow": {
     "slide_type": "slide"
    }
   },
   "source": [
    "> The red star will indicate the best sample\n",
    "\n"
   ]
  },
  {
   "cell_type": "markdown",
   "metadata": {},
   "source": [
    "***\n",
    "**Exercise #3**\n",
    "\n",
    "* By consulting the documentation, find the location of the best sample obtainted by Latin Hypercube sampling (the red star)\n",
    "* Store this value as `x_best`\n",
    "***"
   ]
  },
  {
   "cell_type": "code",
   "execution_count": null,
   "metadata": {},
   "outputs": [],
   "source": [
    "## YOUR CODE HERE ##\n"
   ]
  },
  {
   "cell_type": "code",
   "execution_count": null,
   "metadata": {},
   "outputs": [],
   "source": [
    "## SOLUTION ##\n",
    "\n",
    "x_best = samples_lhs.get_n_best_input_parameters_numpy(nosamples=1)\n",
    "\n",
    "print(f\"The location of the red start is {x_best}\")\n",
    "\n",
    "# f3dasm.write_pickle('exercise_best_sample', x_best)"
   ]
  },
  {
   "cell_type": "code",
   "execution_count": null,
   "metadata": {},
   "outputs": [],
   "source": [
    "## CHECK ##\n",
    "\n",
    "assert (x_best == f3dasm.read_pickle('exercise_best_sample')).all()"
   ]
  },
  {
   "cell_type": "markdown",
   "metadata": {},
   "source": [
    "Now we will take a look how we can find the minimum of this loss-function with an optimizer!"
   ]
  },
  {
   "cell_type": "markdown",
   "metadata": {
    "slideshow": {
     "slide_type": "fragment"
    }
   },
   "source": [
    "### Optimization: CMAES optimizer\n",
    "\n",
    "Optimizers can be found in the submodule `f3dasm.optimization` and are ported from several libraries such as `GPyOpt`, `scipy-optimize`, `tensorflow` and `pygmo`\n",
    "\n",
    "We will use the CMAES optimizer to find the minimum. We can find an implementation in the `f3dasm.optimization` module:"
   ]
  },
  {
   "cell_type": "code",
   "execution_count": null,
   "metadata": {
    "slideshow": {
     "slide_type": "fragment"
    }
   },
   "outputs": [],
   "source": [
    "optimizer = f3dasm.optimization.CMAES(data=copy.copy(samples_lhs))"
   ]
  },
  {
   "cell_type": "markdown",
   "metadata": {
    "slideshow": {
     "slide_type": "fragment"
    }
   },
   "source": [
    "By calling the `iterate()` method and specifying the function and the number of iterations, we will start the optimization process:"
   ]
  },
  {
   "cell_type": "code",
   "execution_count": null,
   "metadata": {
    "slideshow": {
     "slide_type": "fragment"
    }
   },
   "outputs": [],
   "source": [
    "optimizer.iterate(iterations=100, function=f)"
   ]
  },
  {
   "cell_type": "markdown",
   "metadata": {
    "slideshow": {
     "slide_type": "fragment"
    }
   },
   "source": [
    "After that, we can extract the data:"
   ]
  },
  {
   "cell_type": "code",
   "execution_count": null,
   "metadata": {
    "slideshow": {
     "slide_type": "fragment"
    }
   },
   "outputs": [],
   "source": [
    "cmaes_data = optimizer.extract_data()"
   ]
  },
  {
   "cell_type": "markdown",
   "metadata": {
    "slideshow": {
     "slide_type": "fragment"
    }
   },
   "source": [
    "... and create a contour plot again:"
   ]
  },
  {
   "cell_type": "code",
   "execution_count": null,
   "metadata": {
    "slideshow": {
     "slide_type": "slide"
    }
   },
   "outputs": [],
   "source": [
    "fig, ax = f.plot_data(data=cmaes_data,px=300, domain=domain)"
   ]
  },
  {
   "cell_type": "markdown",
   "metadata": {},
   "source": [
    "**Hyperparameters**\n",
    "\n",
    "You can overwrite the default hyperparameters of each optimizer by supplying a dictionary to the optimizer initializer.\n",
    "The parameters of the optimizer can be viewed by calling the `parameter` attribute:"
   ]
  },
  {
   "cell_type": "code",
   "execution_count": null,
   "metadata": {},
   "outputs": [],
   "source": [
    "optimizer.parameter"
   ]
  },
  {
   "cell_type": "markdown",
   "metadata": {},
   "source": [
    "***\n",
    "**Exercise #4**\n",
    "* Retrieve the default `learning_rate` parameter of the `Adam` optimizer\n",
    "* Optimize the same `Levy()`-function 50 iterations but now with the `Adam` optimizer with a `learning_rate` parameter of `2.0e-3`\n",
    "* Extract the data and call it `adam_data`\n",
    "* Plot the loss-landscape and data with the `plot_data` function\n",
    "***\n"
   ]
  },
  {
   "cell_type": "code",
   "execution_count": null,
   "metadata": {},
   "outputs": [],
   "source": [
    "## YOUR CODE HERE ##\n"
   ]
  },
  {
   "cell_type": "code",
   "execution_count": null,
   "metadata": {},
   "outputs": [],
   "source": [
    "## SOLUTIONS ##\n",
    "\n",
    "# Retrieve the default learning_rate parameter of the Adam optimizer\n",
    "print(f\"The default learning rate of the Adam optimizer is {f3dasm.optimization.Adam_Parameters().learning_rate:.1E}\")\n",
    "\n",
    "# Optimize the same Levy()-function for 50 iterations but now with the Adam optimizer with a learning_rate parameter of 2.0e-3\n",
    "optimizer_adam = f3dasm.optimization.Adam(data=copy.copy(samples_lhs), hyperparameters={'learning_rate': 2e-3}, seed=seed)\n",
    "optimizer_adam.iterate(iterations=50, function=f)\n",
    "\n",
    "# Extract the data and call it adam_data\n",
    "adam_data = optimizer_adam.extract_data()\n",
    "\n",
    "# Plot the loss-landscape and data with the `plot_data` function\n",
    "fig2, ax2 = f.plot_data(data=adam_data, px=300, domain=domain)\n",
    "\n",
    "# f3dasm.write_pickle('exercise_adam_optimization',adam_data)"
   ]
  },
  {
   "cell_type": "code",
   "execution_count": null,
   "metadata": {},
   "outputs": [],
   "source": [
    "## CHECK ##\n",
    "\n",
    "assert f3dasm.read_pickle('exercise_adam_optimization').data.to_numpy() == pytest.approx(adam_data.data.to_numpy())"
   ]
  },
  {
   "cell_type": "markdown",
   "metadata": {
    "slideshow": {
     "slide_type": "slide"
    }
   },
   "source": [
    "### Experiment: Multiple realizations of SGA on 20D Ackley function\n",
    "\n",
    "Now we take a look at an example of an experiment where use the following blocks to optimize a 20D Ackley function with the CMAES optimizer over 10 different realizations:"
   ]
  },
  {
   "cell_type": "code",
   "execution_count": null,
   "metadata": {
    "slideshow": {
     "slide_type": "fragment"
    }
   },
   "outputs": [],
   "source": [
    "# Define the blocks:\n",
    "dimensionality = 20\n",
    "iterations = 600\n",
    "realizations = 10\n",
    "\n",
    "hyperparameters= {} # If none are selected, the default ones are used\n",
    "\n",
    "domain = np.tile([-1., 1.], (dimensionality,1))\n",
    "design = f3dasm.make_nd_continuous_design(bounds=domain, dimensionality=dimensionality)\n",
    "data = f3dasm.Data(design)"
   ]
  },
  {
   "cell_type": "code",
   "execution_count": null,
   "metadata": {
    "slideshow": {
     "slide_type": "slide"
    }
   },
   "outputs": [],
   "source": [
    "# We can put them in a dictionary if we want\n",
    "\n",
    "implementation = {\n",
    "'realizations': realizations,\n",
    "'optimizer': f3dasm.optimization.SGD(data=data, hyperparameters=hyperparameters), \n",
    "'function': f3dasm.functions.Ackley(dimensionality=dimensionality, scale_bounds=domain),\n",
    "'sampler': f3dasm.sampling.LatinHypercubeSampling(design, seed=seed),\n",
    "'iterations': iterations,\n",
    "'seed': seed\n",
    "}"
   ]
  },
  {
   "cell_type": "markdown",
   "metadata": {
    "slideshow": {
     "slide_type": "fragment"
    }
   },
   "source": [
    "The `run_multiple_realizations()` function will be the pipeline of this experiment:"
   ]
  },
  {
   "cell_type": "code",
   "execution_count": null,
   "metadata": {
    "slideshow": {
     "slide_type": "fragment"
    }
   },
   "outputs": [],
   "source": [
    "results = f3dasm.run_multiple_realizations(**implementation)"
   ]
  },
  {
   "cell_type": "code",
   "execution_count": null,
   "metadata": {},
   "outputs": [],
   "source": [
    "cc = (cycler(color=list('bgrcmyk')) *\n",
    "      cycler(linestyle=['-', '--', 'dotted']))"
   ]
  },
  {
   "cell_type": "code",
   "execution_count": null,
   "metadata": {},
   "outputs": [],
   "source": [
    "def calc_mean_std(results):\n",
    "    mean_y = pd.concat([d.get_output_data().cummin() for d in results], axis=1).mean(axis=1)\n",
    "    std_y = pd.concat([d.get_output_data().cummin() for d in results], axis=1).std(axis=1)\n",
    "    return mean_y, std_y"
   ]
  },
  {
   "cell_type": "code",
   "execution_count": null,
   "metadata": {},
   "outputs": [],
   "source": [
    "def create_axis(results: f3dasm.OptimizationResult, ax):\n",
    "    mean_y, _ = calc_mean_std(results.data)\n",
    "\n",
    "    ax.plot(mean_y, label=f\"optimizer={results.optimizer}\")\n",
    "    return ax"
   ]
  },
  {
   "cell_type": "code",
   "execution_count": null,
   "metadata": {},
   "outputs": [],
   "source": [
    "def plot_results(results: f3dasm.OptimizationResult):\n",
    "    fig, ax = plt.figure(figsize=(15,8)), plt.axes()\n",
    "\n",
    "    ax.set_xlabel('iterations')\n",
    "    ax.set_ylabel('f(x)')\n",
    "    ax.set_yscale('log')\n",
    "    ax.set_prop_cycle(cc)\n",
    "\n",
    "    for _, res in enumerate([results]):\n",
    "        ax = create_axis(res, ax)\n",
    "\n",
    "    ax.legend(loc='upper right', ncol=3, fancybox=True, shadow=True)\n",
    "    return fig, ax"
   ]
  },
  {
   "cell_type": "code",
   "execution_count": null,
   "metadata": {},
   "outputs": [],
   "source": [
    "fig, ax = plot_results(results)"
   ]
  },
  {
   "cell_type": "markdown",
   "metadata": {
    "slideshow": {
     "slide_type": "slide"
    }
   },
   "source": [
    "We can change a hyper-parameter such as the `learning_rate` and rerun the experiment with ease:"
   ]
  },
  {
   "cell_type": "code",
   "execution_count": null,
   "metadata": {
    "slideshow": {
     "slide_type": "fragment"
    }
   },
   "outputs": [],
   "source": [
    "implementation.update({'optimizer': f3dasm.optimization.SGD(data=data, hyperparameters={'learning_rate': 3e-2})})\n",
    "results_2 = f3dasm.run_multiple_realizations(**implementation)\n",
    "\n",
    "fig2, ax2 = plot_results(results_2)"
   ]
  },
  {
   "cell_type": "markdown",
   "metadata": {},
   "source": [
    "***\n",
    "\n",
    "**Exercise #5**\n",
    "\n",
    "Replicate the following experiment:\n",
    "* Create a 6-dimensional, continuous design space with bounds for every dimension `-1.0` and `1.0`.\n",
    "* Create a 6-dimensional, noiseless `Schwefel` function\n",
    "* Create 40 initial samples by sampling from `SobolSequenceSampling`\n",
    "* Optimize the function for 500 iterations and 5 realizations with the `PSO` optimizer. Use the default hyperparameters.\n",
    "* Store the resulted `f3dasm.OptimizerResult`-object in the variable `pso_data`\n",
    "\n",
    "*Hint #1: you can use the `f3dasm.make_nd_continuous_design()` function to quickly make a suitable design space.*\n",
    "\n",
    "*Hint #2: a suitable domain has already been coded for you*\n",
    "****"
   ]
  },
  {
   "cell_type": "code",
   "execution_count": null,
   "metadata": {},
   "outputs": [],
   "source": [
    "## YOUR CODE HERE ##\n",
    "\n",
    "# Use this domain\n",
    "dimensionality = 6\n",
    "domain = np.tile([-1., 1.], (dimensionality,1))"
   ]
  },
  {
   "cell_type": "code",
   "execution_count": null,
   "metadata": {
    "slideshow": {
     "slide_type": "slide"
    }
   },
   "outputs": [],
   "source": [
    "## SOLUTIONS ##\n",
    "dimensionality = 6\n",
    "iterations = 500\n",
    "realizations = 5\n",
    "\n",
    "hyperparameters= {} # If none are selected, the default ones are used\n",
    "\n",
    "domain = np.tile([-1., 1.], (dimensionality,1))\n",
    "design = f3dasm.make_nd_continuous_design(bounds=domain, dimensionality=dimensionality)\n",
    "data = f3dasm.Data(design)\n",
    "\n",
    "\n",
    "implementation2 = {\n",
    "'realizations': realizations,\n",
    "'optimizer': f3dasm.optimization.PSO(data=data, seed=seed), \n",
    "'function': f3dasm.functions.Schwefel(dimensionality=dimensionality, scale_bounds=domain, seed=seed),\n",
    "'sampler': f3dasm.sampling.SobolSequenceSampling(design, seed=seed),\n",
    "'iterations': iterations,\n",
    "'seed': seed\n",
    "}\n",
    "\n",
    "results_3 = f3dasm.run_multiple_realizations(**implementation2)\n",
    "\n",
    "# f3dasm.write_pickle('exercise_pso_optimization', results_3)"
   ]
  },
  {
   "cell_type": "code",
   "execution_count": null,
   "metadata": {},
   "outputs": [],
   "source": [
    "## CHECK ##\n",
    "\n",
    "pso_data: f3dasm.OptimizationResult = f3dasm.read_pickle('exercise_pso_optimization')\n",
    "\n",
    "for index, result in enumerate(results_3.data):\n",
    "    assert result.data.to_numpy() == pytest.approx(pso_data.data[index].data.to_numpy())"
   ]
  },
  {
   "cell_type": "markdown",
   "metadata": {},
   "source": [
    "The average performance of the optimize can be plotted:"
   ]
  },
  {
   "cell_type": "code",
   "execution_count": null,
   "metadata": {},
   "outputs": [],
   "source": [
    "plot_results(results_3)"
   ]
  }
 ],
 "metadata": {
  "celltoolbar": "Slideshow",
  "kernelspec": {
   "display_name": "Python 3.10.5 ('f3dasm_env')",
   "language": "python",
   "name": "python3"
  },
  "language_info": {
   "codemirror_mode": {
    "name": "ipython",
    "version": 3
   },
   "file_extension": ".py",
   "mimetype": "text/x-python",
   "name": "python",
   "nbconvert_exporter": "python",
   "pygments_lexer": "ipython3",
   "version": "3.10.5"
  },
  "vscode": {
   "interpreter": {
    "hash": "cd4aa09bf73c11ef3239c620489b85906b4cadb309e0ddddf54fa55967002edb"
   }
  }
 },
 "nbformat": 4,
 "nbformat_minor": 2
}
