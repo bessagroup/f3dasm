{
 "cells": [
  {
   "cell_type": "markdown",
   "metadata": {},
   "source": [
    "# Overview of the current state, features and requiremnents of `f3dasm`\n",
    "*Meeting 24/03/2022*\n",
    "\n",
    "Contents of this meeting \n",
    "- Requirements of first release of `f3dasm`\n",
    "- Installation and modularity\n",
    "- Use cases (not in this jupyter notebook)"
   ]
  },
  {
   "cell_type": "markdown",
   "metadata": {},
   "source": [
    "## Requirements of first release of f3dasm\n",
    "\n",
    "> Distinction between python package and repository\n",
    "> - Python package contains the code that is used when installing the package (`pip install f3dasm`) as a user. It contains only the `main` branch version\n",
    "> - The repository is mainly for developers and to showcase studies (more on that later)\n",
    "\n",
    "### System requirements\n",
    "The first release of `f3dasm` **should**:\n",
    "1. comply to the Bessa Group code of conduct\n",
    "2. compatible with Python 3.7 to 3.10\n",
    "3. compatible with the three major operations system (Linux, MacOS, Ubuntu)\n",
    "4. available as a `pip` install\n",
    "\n",
    "The first release of `f3dasm` **should not**:\n",
    "1. use `conda` packages as requirements\n",
    "2. be hosted on other package distribution platforms (`poetry`, `conda`)\n",
    "\n",
    "### Feature requirements\n",
    "The first release of `f3dasm` should:\n",
    "1. have a way to parametrize a **design-of-experiments** from their own program\n",
    "2. give the user the option to **sample** and **optimize** from their design with various optimizers\n",
    "3. give the user guidance in **parallelizing** and ordering their experiment-data\n",
    "4. provide high-level classes to deploy **simulations**.\n",
    "4. give the user ways of deploying their **experiment** at the HPC (TORQUE system)\n",
    "\n",
    "The first release of `f3dasm` **should not**:\n",
    "1. force the user to use the built-in machine learning models and optimizers (these are extensions)\n",
    "2. include state-of-the-art machine learning models as extensions"
   ]
  },
  {
   "cell_type": "markdown",
   "metadata": {},
   "source": [
    "## Installation and modularity\n",
    "\n",
    "`f3dasm` can be installed in two ways:\n",
    "\n",
    "### Installing from `pip`\n",
    "\n",
    "The package is split up into three parts:\n",
    "- the **core** package: contains the minimal installation to use `f3dasm` without extended features. Installed with `pip install f3dasm`\n",
    "- the **extensions**: for each of the blocks, extensions can be installed to extend the choice of implementations. Installed with `pip install f3dasm[extension]`\n",
    "- the **developement** package: contains the full installation plus requirements for developing on `f3dasm`. Installed with `pip install f3dasm[dev]`\n",
    "\n",
    "The following extensions are available:\n",
    "- **machinelearning**: containing various `tensorflow` related models\n",
    "- **sampling**: containing sampling strategies from `SALib`\n",
    "- **optimization**: containing various optimizers from `GPyOpt`, `pygmo` and `tensorflow`\n",
    "\n",
    "### Installing from source\n",
    "\n",
    "Advised for developers only. \n",
    "- Make sure you have the build dependencies (`setuptools`, `wheel`). Or install the development requirements (`pip install -r requirements_dev.txt`)\n",
    "- Clone the repository and install the package in editable mode (`pip install -e .[dev]`)"
   ]
  },
  {
   "cell_type": "code",
   "execution_count": 1,
   "metadata": {},
   "outputs": [
    {
     "name": "stderr",
     "output_type": "stream",
     "text": [
      "2023-03-24 14:07:32.396337: I tensorflow/core/platform/cpu_feature_guard.cc:193] This TensorFlow binary is optimized with oneAPI Deep Neural Network Library (oneDNN) to use the following CPU instructions in performance-critical operations:  AVX2 AVX512F AVX512_VNNI FMA\n",
      "To enable them in other operations, rebuild TensorFlow with the appropriate compiler flags.\n",
      "2023-03-24 14:07:32.594329: I tensorflow/core/util/port.cc:104] oneDNN custom operations are on. You may see slightly different numerical results due to floating-point round-off errors from different computation orders. To turn them off, set the environment variable `TF_ENABLE_ONEDNN_OPTS=0`.\n",
      "2023-03-24 14:07:33.411381: W tensorflow/compiler/xla/stream_executor/platform/default/dso_loader.cc:64] Could not load dynamic library 'libnvinfer.so.7'; dlerror: libnvinfer.so.7: cannot open shared object file: No such file or directory; LD_LIBRARY_PATH: /usr/local/cuda-11.1/lib64\n",
      "2023-03-24 14:07:33.411465: W tensorflow/compiler/xla/stream_executor/platform/default/dso_loader.cc:64] Could not load dynamic library 'libnvinfer_plugin.so.7'; dlerror: libnvinfer_plugin.so.7: cannot open shared object file: No such file or directory; LD_LIBRARY_PATH: /usr/local/cuda-11.1/lib64\n",
      "2023-03-24 14:07:33.411471: W tensorflow/compiler/tf2tensorrt/utils/py_utils.cc:38] TF-TRT Warning: Cannot dlopen some TensorRT libraries. If you would like to use Nvidia GPU with TensorRT, please make sure the missing libraries mentioned above are installed properly.\n"
     ]
    }
   ],
   "source": [
    "import f3dasm"
   ]
  },
  {
   "cell_type": "markdown",
   "metadata": {},
   "source": [
    "We can show our exact installation with the following function:"
   ]
  },
  {
   "cell_type": "code",
   "execution_count": 2,
   "metadata": {},
   "outputs": [
    {
     "name": "stdout",
     "output_type": "stream",
     "text": [
      "\n",
      "f3dasm:\n",
      "       f3dasm: 0.2.98\n",
      "\n",
      "System:\n",
      "    python: 3.8.15 | packaged by conda-forge | (default, Nov 22 2022, 08:49:35)  [GCC 10.4.0]\n",
      "executable: /home/martin/miniconda3/envs/f3dasm_env3/bin/python\n",
      "   machine: Linux-5.14.0-1058-oem-x86_64-with-glibc2.10\n",
      "\n",
      "Core package dependencies:\n",
      "        numpy: 1.23.5\n",
      "        scipy: 1.9.3\n",
      "       pandas: 1.5.2\n",
      "   matplotlib: 3.6.2\n",
      "       pathos: 0.3.0\n",
      "        hydra: 1.2.0\n",
      "     autograd: No __version__ attribute!\n",
      "\n",
      "Machine learning extension:\n",
      "   tensorflow: 2.11.0\n",
      "\n",
      "Optimization extension:\n",
      "       GPyOpt: 1.2.6\n",
      "          GPy: 1.10.0\n",
      "   tensorflow: 2.11.0\n",
      "        pygmo: 2.19.0\n",
      "\n",
      "Sampling extension:\n",
      "        SALib: None\n"
     ]
    }
   ],
   "source": [
    "f3dasm.show_versions()"
   ]
  },
  {
   "cell_type": "markdown",
   "metadata": {},
   "source": [
    "### Namespace\n",
    "\n",
    "Base classes are available from the global namespace:"
   ]
  },
  {
   "cell_type": "code",
   "execution_count": 3,
   "metadata": {},
   "outputs": [
    {
     "data": {
      "text/plain": [
       "(f3dasm.sampling.sampler.Sampler,\n",
       " f3dasm.optimization.optimizer.Optimizer,\n",
       " f3dasm.machinelearning.model.Model)"
      ]
     },
     "execution_count": 3,
     "metadata": {},
     "output_type": "execute_result"
    }
   ],
   "source": [
    "f3dasm.Sampler, f3dasm.Optimizer, f3dasm.Model"
   ]
  },
  {
   "cell_type": "markdown",
   "metadata": {},
   "source": [
    "The design space features are also available from the global:"
   ]
  },
  {
   "cell_type": "code",
   "execution_count": 4,
   "metadata": {},
   "outputs": [
    {
     "data": {
      "text/plain": [
       "(f3dasm.design.design.DesignSpace,\n",
       " f3dasm.design.experimentdata.ExperimentData,\n",
       " f3dasm.design.parameter.ContinuousParameter,\n",
       " <function f3dasm.design.design.make_nd_continuous_design(bounds: numpy.ndarray, dimensionality: int) -> f3dasm.design.design.DesignSpace>)"
      ]
     },
     "execution_count": 4,
     "metadata": {},
     "output_type": "execute_result"
    }
   ],
   "source": [
    "f3dasm.DesignSpace, f3dasm.ExperimentData, f3dasm.ContinuousParameter, f3dasm.make_nd_continuous_design"
   ]
  },
  {
   "cell_type": "markdown",
   "metadata": {},
   "source": [
    "Other utility functions that are under the global namespace:"
   ]
  },
  {
   "cell_type": "code",
   "execution_count": 5,
   "metadata": {},
   "outputs": [
    {
     "data": {
      "text/plain": [
       "(<function f3dasm.run_optimization.run_optimization(optimizer: f3dasm.optimization.optimizer.Optimizer, function: f3dasm.functions.function.Function, sampler: f3dasm.sampling.sampler.Sampler, iterations: int, seed: int, number_of_samples: int = 30) -> f3dasm.design.experimentdata.ExperimentData>,\n",
       " <function f3dasm._show_versions.show_versions()>)"
      ]
     },
     "execution_count": 5,
     "metadata": {},
     "output_type": "execute_result"
    }
   ],
   "source": [
    "f3dasm.run_optimization, f3dasm.show_versions"
   ]
  },
  {
   "cell_type": "markdown",
   "metadata": {},
   "source": [
    "All implementations can found under the respective submodules:\n",
    "- `f3dasm.sampling`\n",
    "- `f3dasm.machinelearning`\n",
    "- `f3dasm.optimization`\n",
    "- `f3dasm.simulation`"
   ]
  },
  {
   "cell_type": "code",
   "execution_count": 6,
   "metadata": {},
   "outputs": [
    {
     "data": {
      "text/plain": [
       "(f3dasm.optimization.adam.Adam,\n",
       " f3dasm.sampling.randomuniform.RandomUniform,\n",
       " f3dasm.machinelearning.linear_regression.LinearRegression)"
      ]
     },
     "execution_count": 6,
     "metadata": {},
     "output_type": "execute_result"
    }
   ],
   "source": [
    "f3dasm.optimization.Adam, f3dasm.sampling.RandomUniform, f3dasm.machinelearning.LinearRegression"
   ]
  },
  {
   "cell_type": "markdown",
   "metadata": {},
   "source": [
    "Furthermore, there two more submodules:\n",
    "- `f3dasm.functions`: for benchmarkfunctions, they can be used in any stage in the process\n",
    "- `f3dasm.experiment`: Experiment utilities, for datacollection, paralellization and HPC support"
   ]
  },
  {
   "cell_type": "markdown",
   "metadata": {},
   "source": [
    "## Modularity\n",
    "\n",
    "Whenever you import the f3dasm package, the implementations are only loaded when you create an instance of the class.\n",
    "Only then it is checked if a particular dependency is installed or not. This keeps the package lightweight and customizable"
   ]
  },
  {
   "cell_type": "markdown",
   "metadata": {},
   "source": [
    "Example, The `SALib` library is not installed. I can load the `LatinHyperCube` sampler without any problem."
   ]
  },
  {
   "cell_type": "code",
   "execution_count": 7,
   "metadata": {},
   "outputs": [
    {
     "data": {
      "text/plain": [
       "f3dasm.sampling.latinhypercube.LatinHypercube"
      ]
     },
     "execution_count": 7,
     "metadata": {},
     "output_type": "execute_result"
    }
   ],
   "source": [
    "f3dasm.sampling.LatinHypercube"
   ]
  },
  {
   "cell_type": "markdown",
   "metadata": {},
   "source": [
    "Only when I create an instance of this sampler, an ImportError is thrown:"
   ]
  },
  {
   "cell_type": "code",
   "execution_count": 8,
   "metadata": {},
   "outputs": [
    {
     "ename": "ImportError",
     "evalue": "Tried to import 'SALib' but failed. Please make sure that you have installed the extension 'sampling' correctly to use this feature. Actual error: No module named 'SALib'.",
     "output_type": "error",
     "traceback": [
      "\u001b[0;31m---------------------------------------------------------------------------\u001b[0m",
      "\u001b[0;31mModuleNotFoundError\u001b[0m                       Traceback (most recent call last)",
      "File \u001b[0;32m~/Documents/GitHub/F3DASM/src/f3dasm/sampling/latinhypercube.py:17\u001b[0m\n\u001b[1;32m     16\u001b[0m \u001b[38;5;28;01mwith\u001b[39;00m try_import(\u001b[38;5;124m'\u001b[39m\u001b[38;5;124msampling\u001b[39m\u001b[38;5;124m'\u001b[39m) \u001b[38;5;28;01mas\u001b[39;00m _imports:\n\u001b[0;32m---> 17\u001b[0m     \u001b[38;5;28;01mfrom\u001b[39;00m \u001b[38;5;21;01mSALib\u001b[39;00m\u001b[38;5;21;01m.\u001b[39;00m\u001b[38;5;21;01msample\u001b[39;00m \u001b[38;5;28;01mimport\u001b[39;00m latin\n\u001b[1;32m     20\u001b[0m \u001b[38;5;66;03m#                                                          Authorship & Credits\u001b[39;00m\n\u001b[1;32m     21\u001b[0m \u001b[38;5;66;03m# =============================================================================\u001b[39;00m\n",
      "\u001b[0;31mModuleNotFoundError\u001b[0m: No module named 'SALib'",
      "\nThe above exception was the direct cause of the following exception:\n",
      "\u001b[0;31mImportError\u001b[0m                               Traceback (most recent call last)",
      "Cell \u001b[0;32mIn[8], line 1\u001b[0m\n\u001b[0;32m----> 1\u001b[0m sampler \u001b[38;5;241m=\u001b[39m \u001b[43mf3dasm\u001b[49m\u001b[38;5;241;43m.\u001b[39;49m\u001b[43msampling\u001b[49m\u001b[38;5;241;43m.\u001b[39;49m\u001b[43mLatinHypercube\u001b[49m\u001b[43m(\u001b[49m\u001b[43mdesign\u001b[49m\u001b[38;5;241;43m=\u001b[39;49m\u001b[38;5;241;43m0\u001b[39;49m\u001b[43m)\u001b[49m\n",
      "File \u001b[0;32m~/Documents/GitHub/F3DASM/src/f3dasm/sampling/latinhypercube.py:34\u001b[0m, in \u001b[0;36mLatinHypercube.__init__\u001b[0;34m(self, design, seed)\u001b[0m\n\u001b[1;32m     33\u001b[0m \u001b[38;5;28;01mdef\u001b[39;00m \u001b[38;5;21m__init__\u001b[39m(\u001b[38;5;28mself\u001b[39m, design: DesignSpace, seed: Union[Any, \u001b[38;5;28mint\u001b[39m] \u001b[38;5;241m=\u001b[39m \u001b[38;5;28;01mNone\u001b[39;00m):\n\u001b[0;32m---> 34\u001b[0m     \u001b[43m_imports\u001b[49m\u001b[38;5;241;43m.\u001b[39;49m\u001b[43mcheck\u001b[49m\u001b[43m(\u001b[49m\u001b[43m)\u001b[49m\n\u001b[1;32m     35\u001b[0m     \u001b[38;5;28msuper\u001b[39m()\u001b[38;5;241m.\u001b[39m\u001b[38;5;21m__init__\u001b[39m(design, seed)\n",
      "File \u001b[0;32m~/Documents/GitHub/F3DASM/src/f3dasm/_imports.py:105\u001b[0m, in \u001b[0;36m_DeferredImportExceptionContextManager.check\u001b[0;34m(self)\u001b[0m\n\u001b[1;32m    103\u001b[0m \u001b[38;5;28;01mif\u001b[39;00m \u001b[38;5;28mself\u001b[39m\u001b[38;5;241m.\u001b[39m_deferred \u001b[38;5;129;01mis\u001b[39;00m \u001b[38;5;129;01mnot\u001b[39;00m \u001b[38;5;28;01mNone\u001b[39;00m:\n\u001b[1;32m    104\u001b[0m     exc_value, message \u001b[38;5;241m=\u001b[39m \u001b[38;5;28mself\u001b[39m\u001b[38;5;241m.\u001b[39m_deferred\n\u001b[0;32m--> 105\u001b[0m     \u001b[38;5;28;01mraise\u001b[39;00m \u001b[38;5;167;01mImportError\u001b[39;00m(message) \u001b[38;5;28;01mfrom\u001b[39;00m \u001b[38;5;21;01mexc_value\u001b[39;00m\n",
      "\u001b[0;31mImportError\u001b[0m: Tried to import 'SALib' but failed. Please make sure that you have installed the extension 'sampling' correctly to use this feature. Actual error: No module named 'SALib'."
     ]
    }
   ],
   "source": [
    "sampler = f3dasm.sampling.LatinHypercube(design=0)"
   ]
  },
  {
   "cell_type": "markdown",
   "metadata": {},
   "source": [
    "All the available samplers within your installation can be shown with `f3dasm.sampling.SAMPLERS`\n",
    "\n",
    "> same logic goes for `OPTIMIZERS` and `MODELS`"
   ]
  },
  {
   "cell_type": "code",
   "execution_count": null,
   "metadata": {},
   "outputs": [],
   "source": [
    "f3dasm.sampling.SAMPLERS"
   ]
  },
  {
   "cell_type": "markdown",
   "metadata": {},
   "source": [
    "## Other notes"
   ]
  },
  {
   "cell_type": "markdown",
   "metadata": {},
   "source": [
    "- way of working with f3dasm: 'fully f3dasm' or 'core f3dasm' (base classes both protocol and parent class)\n",
    "- lacking implementation of simulator\n",
    "- enthousiasm from bessa group\n",
    "- after release v.1.0"
   ]
  },
  {
   "cell_type": "code",
   "execution_count": null,
   "metadata": {},
   "outputs": [],
   "source": []
  }
 ],
 "metadata": {
  "kernelspec": {
   "display_name": "Python 3 (ipykernel)",
   "language": "python",
   "name": "python3"
  },
  "language_info": {
   "codemirror_mode": {
    "name": "ipython",
    "version": 3
   },
   "file_extension": ".py",
   "mimetype": "text/x-python",
   "name": "python",
   "nbconvert_exporter": "python",
   "pygments_lexer": "ipython3",
   "version": "3.8.15"
  },
  "vscode": {
   "interpreter": {
    "hash": "03276761335d5ee93b82dc97db1addd68180a543fb0cacb8af76ec058b1972b7"
   }
  }
 },
 "nbformat": 4,
 "nbformat_minor": 2
}
