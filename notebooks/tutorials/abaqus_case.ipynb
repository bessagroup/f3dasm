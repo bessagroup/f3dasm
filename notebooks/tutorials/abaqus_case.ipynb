{
 "cells": [
  {
   "cell_type": "code",
   "execution_count": 7,
   "metadata": {},
   "outputs": [],
   "source": [
    "# Standard\n",
    "import os\n",
    "import sys\n",
    "\n",
    "# Third-party\n",
    "import numpy as np\n",
    "\n",
    "# Locals\n",
    "folder_path = \"/home/jiaxiangyi/Documents/F3DASM/src\"\n",
    "sys.path.insert(0, folder_path)\n",
    "import f3dasm\n",
    "from f3dasm.design import ExperimentData\n",
    "from f3dasm.simulation.cases.flower_rve import FlowerRVE\n",
    "from matplotlib import pyplot as plt "
   ]
  },
  {
   "cell_type": "code",
   "execution_count": 4,
   "metadata": {},
   "outputs": [
    {
     "name": "stdout",
     "output_type": "stream",
     "text": [
      "      input           output       \n",
      "         C1        C2 stress strain\n",
      "0  0.102128  0.212792    NaN    NaN\n",
      "1  0.175014  0.140041    NaN    NaN\n"
     ]
    }
   ],
   "source": [
    "N = 2  # number of samples\n",
    "\n",
    "# define the doe\n",
    "C1 = f3dasm.ContinuousParameter(\n",
    "    name=\"C1\", lower_bound=0.05, upper_bound=0.3\n",
    ")\n",
    "C2 = f3dasm.ContinuousParameter(\n",
    "    name=\"C2\", lower_bound=0.05, upper_bound=0.3\n",
    ")\n",
    "# define the output\n",
    "stress = f3dasm.ContinuousParameter(name=\"stress\")\n",
    "strain = f3dasm.ContinuousParameter(name=\"strain\")\n",
    "\n",
    "design = f3dasm.DesignSpace(\n",
    "    input_space=[C1, C2], output_space=[stress, strain]\n",
    ")\n",
    "\n",
    "sampler = f3dasm.sampling.LatinHypercube(design=design, seed=1)\n",
    "data = sampler.get_samples(numsamples=N)\n",
    "print(data.data)"
   ]
  },
  {
   "cell_type": "code",
   "execution_count": 5,
   "metadata": {},
   "outputs": [
    {
     "name": "stdout",
     "output_type": "stream",
     "text": [
      "Simulation information: \n",
      "\n",
      "{\n",
      "    \"job_name\": \"flower_rve\",\n",
      "    \"MAT_Name\": \"Arruda\",\n",
      "    \"C1\": 0.2,\n",
      "    \"C2\": 0.1,\n",
      "    \"platform\": \"ubuntu\"\n",
      "}\n"
     ]
    }
   ],
   "source": [
    "# initialize the simulation\n",
    "problem = FlowerRVE()\n",
    "problem.update_sim_info(print_info=True)"
   ]
  },
  {
   "cell_type": "code",
   "execution_count": 6,
   "metadata": {},
   "outputs": [
    {
     "name": "stderr",
     "output_type": "stream",
     "text": [
      " /home/jiaxiangyi/Documents/F3DASM/src/f3dasm/simulation/cases/flower_rve.py:92: FutureWarning:Using short name for 'orient' is deprecated. Only the options: ('dict', list, 'series', 'split', 'records', 'index') will be used in a future version. Use one of the above to silence this warning.\n"
     ]
    },
    {
     "name": "stdout",
     "output_type": "stream",
     "text": [
      "/home/jiaxiangyi/Documents/F3DASM/notebooks/tutorials/Data/case_0\n",
      "##################################################\n",
      "############ start abaqus simulation ############\n",
      "##################################################\n"
     ]
    },
    {
     "name": "stderr",
     "output_type": "stream",
     "text": [
      "Abaqus License Manager checked out the following license:\n",
      "\"cae\" from Flexnet server flexserv1.tudelft.nl\n",
      "<6 out of 30 licenses remain available>.\n"
     ]
    },
    {
     "name": "stdout",
     "output_type": "stream",
     "text": [
      "\n",
      "*** ABAQUS/ABQcaeK rank 0 terminated by signal 15 (Terminated)\n",
      "\n",
      "simulation time :25.004507 s\n",
      "##################################################\n",
      "############## abaqus post analysis ##############\n",
      "##################################################\n",
      "Abaqus Error: cae exited with an error.\n"
     ]
    },
    {
     "name": "stderr",
     "output_type": "stream",
     "text": [
      "Abaqus License Manager checked out the following license:\n",
      "\"cae\" from Flexnet server flexserv1.tudelft.nl\n",
      "<6 out of 30 licenses remain available>.\n",
      " /home/jiaxiangyi/Documents/F3DASM/src/f3dasm/simulation/cases/flower_rve.py:100: SettingWithCopyWarning:\n",
      "A value is trying to be set on a copy of a slice from a DataFrame\n",
      "\n",
      "See the caveats in the documentation: https://pandas.pydata.org/pandas-docs/stable/user_guide/indexing.html#returning-a-view-versus-a-copy\n"
     ]
    },
    {
     "name": "stdout",
     "output_type": "stream",
     "text": [
      "/home/jiaxiangyi/Documents/F3DASM/notebooks/tutorials/Data/case_1\n",
      "##################################################\n",
      "############ start abaqus simulation ############\n",
      "##################################################\n"
     ]
    },
    {
     "name": "stderr",
     "output_type": "stream",
     "text": [
      "Abaqus License Manager checked out the following license:\n",
      "\"cae\" from Flexnet server flexserv1.tudelft.nl\n",
      "<6 out of 30 licenses remain available>.\n"
     ]
    },
    {
     "name": "stdout",
     "output_type": "stream",
     "text": [
      "\n",
      "*** ABAQUS/ABQcaeK rank 0 terminated by signal 15 (Terminated)\n",
      "\n",
      "simulation time :25.001108 s\n",
      "##################################################\n",
      "############## abaqus post analysis ##############\n",
      "##################################################\n",
      "Abaqus Error: cae exited with an error.\n"
     ]
    },
    {
     "name": "stderr",
     "output_type": "stream",
     "text": [
      "Abaqus License Manager checked out the following license:\n",
      "\"cae\" from Flexnet server flexserv1.tudelft.nl\n",
      "<6 out of 30 licenses remain available>.\n"
     ]
    },
    {
     "name": "stdout",
     "output_type": "stream",
     "text": [
      "      input                                                       output  \\\n",
      "         C1        C2                                             stress   \n",
      "0  0.102128  0.212792  [[[0.0, 0.0], [0.0, 0.0]], [[1.808772329081546...   \n",
      "1  0.175014  0.140041  [[[0.0, 0.0], [0.0, 0.0]], [[1.817887701920656...   \n",
      "\n",
      "                                                      \n",
      "                                              strain  \n",
      "0  [[[0.0, 0.0], [0.0, 0.0]], [[0.006228170242272...  \n",
      "1  [[[0.0, 0.0], [0.0, 0.0]], [[0.006228170242272...  \n"
     ]
    }
   ],
   "source": [
    "results = problem.run_f3dasm(data=data)\n",
    "print(results.data)"
   ]
  },
  {
   "cell_type": "code",
   "execution_count": 15,
   "metadata": {},
   "outputs": [
    {
     "data": {
      "image/png": "[encoded data removed]",
      "text/plain": [
       "<Figure size 640x480 with 1 Axes>"
      ]
     },
     "metadata": {},
     "output_type": "display_data"
    }
   ],
   "source": [
    "fig, ax = plt.subplots()\n",
    "ax.plot(results.data[('output','strain')][0][:,0,0], results.data[('output','stress')][0][:,0,0], label='simulation')\n",
    "ax.legend()\n",
    "plt.show()"
   ]
  },
  {
   "cell_type": "code",
   "execution_count": 14,
   "metadata": {},
   "outputs": [
    {
     "data": {
      "text/plain": [
       "array([0.        , 0.00622817, 0.04292753, 0.12557911, 0.25790675,\n",
       "       0.43130934, 0.62302648, 0.79941865, 0.92708686, 0.98910747,\n",
       "       0.99999933])"
      ]
     },
     "execution_count": 14,
     "metadata": {},
     "output_type": "execute_result"
    }
   ],
   "source": [
    "results.data[('output','strain')][0][:,0,0]"
   ]
  }
 ],
 "metadata": {
  "kernelspec": {
   "display_name": "MLenv3",
   "language": "python",
   "name": "python3"
  },
  "language_info": {
   "codemirror_mode": {
    "name": "ipython",
    "version": 3
   },
   "file_extension": ".py",
   "mimetype": "text/x-python",
   "name": "python",
   "nbconvert_exporter": "python",
   "pygments_lexer": "ipython3",
   "version": "3.10.6"
  },
  "orig_nbformat": 4
 },
 "nbformat": 4,
 "nbformat_minor": 2
}
