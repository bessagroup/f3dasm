{
 "cells": [
  {
   "cell_type": "code",
   "execution_count": 1,
   "metadata": {},
   "outputs": [
    {
     "name": "stderr",
     "output_type": "stream",
     "text": [
      "2023-03-28 18:14:57.269011: I tensorflow/core/platform/cpu_feature_guard.cc:193] This TensorFlow binary is optimized with oneAPI Deep Neural Network Library (oneDNN) to use the following CPU instructions in performance-critical operations:  SSE4.1 SSE4.2 AVX AVX2 AVX512F AVX512_VNNI FMA\n",
      "To enable them in other operations, rebuild TensorFlow with the appropriate compiler flags.\n",
      "2023-03-28 18:14:57.357437: I tensorflow/core/util/util.cc:169] oneDNN custom operations are on. You may see slightly different numerical results due to floating-point round-off errors from different computation orders. To turn them off, set the environment variable `TF_ENABLE_ONEDNN_OPTS=0`.\n"
     ]
    }
   ],
   "source": [
    "# Standard\n",
    "import os\n",
    "import sys\n",
    "\n",
    "# Third-party\n",
    "import numpy as np\n",
    "\n",
    "\n",
    "import f3dasm\n",
    "from f3dasm.design import ExperimentData\n",
    "from f3dasm.simulation.cases.flower_rve import FlowerRVE\n",
    "from matplotlib import pyplot as plt "
   ]
  },
  {
   "cell_type": "code",
   "execution_count": 2,
   "metadata": {},
   "outputs": [
    {
     "name": "stdout",
     "output_type": "stream",
     "text": [
      "      input           output       \n",
      "         C1        C2 stress strain\n",
      "0  0.102128  0.212792    NaN    NaN\n",
      "1  0.175014  0.140041    NaN    NaN\n"
     ]
    }
   ],
   "source": [
    "N = 2  # number of samples\n",
    "\n",
    "# define the doe\n",
    "C1 = f3dasm.ContinuousParameter(\n",
    "    name=\"C1\", lower_bound=0.05, upper_bound=0.3\n",
    ")\n",
    "C2 = f3dasm.ContinuousParameter(\n",
    "    name=\"C2\", lower_bound=0.05, upper_bound=0.3\n",
    ")\n",
    "# define the output\n",
    "stress = f3dasm.ContinuousParameter(name=\"stress\")\n",
    "strain = f3dasm.ContinuousParameter(name=\"strain\")\n",
    "\n",
    "design = f3dasm.DesignSpace(\n",
    "    input_space=[C1, C2], output_space=[stress, strain]\n",
    ")\n",
    "\n",
    "sampler = f3dasm.sampling.LatinHypercube(design=design, seed=1)\n",
    "data = sampler.get_samples(numsamples=N)\n",
    "print(data.data)"
   ]
  },
  {
   "cell_type": "code",
   "execution_count": 3,
   "metadata": {},
   "outputs": [
    {
     "name": "stdout",
     "output_type": "stream",
     "text": [
      "Simulation information: \n",
      "\n",
      "{\n",
      "    \"job_name\": \"flower_rve\",\n",
      "    \"MAT_Name\": \"Arruda\",\n",
      "    \"C1\": 0.2,\n",
      "    \"C2\": 0.1,\n",
      "    \"platform\": \"ubuntu\"\n",
      "}\n"
     ]
    }
   ],
   "source": [
    "# initialize the simulation\n",
    "problem = FlowerRVE()\n",
    "problem.update_sim_info(print_info=True)"
   ]
  },
  {
   "cell_type": "code",
   "execution_count": 4,
   "metadata": {},
   "outputs": [
    {
     "name": "stdout",
     "output_type": "stream",
     "text": [
      "/home/jiaxiangyi/Documents/F3DASM/notebooks/tutorials/Data/case_0\n",
      "##################################################\n",
      "############ start abaqus simulation ############\n",
      "##################################################\n"
     ]
    },
    {
     "name": "stderr",
     "output_type": "stream",
     "text": [
      "Abaqus License Manager checked out the following license:\n",
      "\"cae\" from Flexnet server flexserv1.tudelft.nl\n",
      "<10 out of 30 licenses remain available>.\n"
     ]
    },
    {
     "name": "stdout",
     "output_type": "stream",
     "text": [
      "\n",
      "*** ABAQUS/ABQcaeK rank 0 terminated by signal 15 (Terminated)\n",
      "\n",
      "simulation time :25.005119 s\n",
      "##################################################\n",
      "############## abaqus post analysis ##############\n",
      "##################################################\n",
      "Abaqus Error: cae exited with an error.\n"
     ]
    },
    {
     "name": "stderr",
     "output_type": "stream",
     "text": [
      "Abaqus License Manager checked out the following license:\n",
      "\"cae\" from Flexnet server flexserv1.tudelft.nl\n",
      "<11 out of 30 licenses remain available>.\n"
     ]
    },
    {
     "name": "stdout",
     "output_type": "stream",
     "text": [
      "/home/jiaxiangyi/Documents/F3DASM/notebooks/tutorials/Data/case_1\n",
      "##################################################\n",
      "############ start abaqus simulation ############\n",
      "##################################################\n"
     ]
    },
    {
     "name": "stderr",
     "output_type": "stream",
     "text": [
      "Abaqus License Manager checked out the following license:\n",
      "\"cae\" from Flexnet server flexserv1.tudelft.nl\n",
      "<10 out of 30 licenses remain available>.\n"
     ]
    },
    {
     "name": "stdout",
     "output_type": "stream",
     "text": [
      "\n",
      "*** ABAQUS/ABQcaeK rank 0 terminated by signal 15 (Terminated)\n",
      "\n",
      "simulation time :25.004571 s\n",
      "##################################################\n",
      "############## abaqus post analysis ##############\n",
      "##################################################\n",
      "Abaqus Error: cae exited with an error.\n"
     ]
    },
    {
     "name": "stderr",
     "output_type": "stream",
     "text": [
      "Abaqus License Manager checked out the following license:\n",
      "\"cae\" from Flexnet server flexserv1.tudelft.nl\n",
      "<11 out of 30 licenses remain available>.\n"
     ]
    },
    {
     "name": "stdout",
     "output_type": "stream",
     "text": [
      "      input                                                       output  \\\n",
      "         C1        C2                                             stress   \n",
      "0  0.102128  0.212792  [[[0.0, 0.0], [0.0, 0.0]], [[1.808772329081546...   \n",
      "1  0.175014  0.140041  [[[0.0, 0.0], [0.0, 0.0]], [[1.817887701920656...   \n",
      "\n",
      "                                                      \n",
      "                                              strain  \n",
      "0  [[[0.0, 0.0], [0.0, 0.0]], [[0.006228170242272...  \n",
      "1  [[[0.0, 0.0], [0.0, 0.0]], [[0.006228170242272...  \n"
     ]
    }
   ],
   "source": [
    "results = problem.run_f3dasm(data=data)\n",
    "print(results.data)"
   ]
  },
  {
   "cell_type": "code",
   "execution_count": 7,
   "metadata": {},
   "outputs": [
    {
     "data": {
      "image/png": "[encoded data removed]",
      "text/plain": [
       "<Figure size 640x480 with 1 Axes>"
      ]
     },
     "metadata": {},
     "output_type": "display_data"
    }
   ],
   "source": [
    "fig, ax = plt.subplots()\n",
    "ax.plot(results.data[('output','strain')][0][:,0,0], results.data[('output','stress')][0][:,0,0], label='xx')\n",
    "# ax.plot(results.data[('output','strain')][0][:,0,1], results.data[('output','stress')][0][:,0,1], label='xy')\n",
    "# ax.plot(results.data[('output','strain')][0][:,1,1], results.data[('output','stress')][0][:,1,1], label='yy')\n",
    "ax.legend()\n",
    "plt.show()"
   ]
  }
 ],
 "metadata": {
  "kernelspec": {
   "display_name": "MLenv3",
   "language": "python",
   "name": "python3"
  },
  "language_info": {
   "codemirror_mode": {
    "name": "ipython",
    "version": 3
   },
   "file_extension": ".py",
   "mimetype": "text/x-python",
   "name": "python",
   "nbconvert_exporter": "python",
   "pygments_lexer": "ipython3",
   "version": "3.10.5"
  },
  "orig_nbformat": 4
 },
 "nbformat": 4,
 "nbformat_minor": 2
}
