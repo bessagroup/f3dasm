{
 "cells": [
  {
   "cell_type": "markdown",
   "metadata": {},
   "source": [
    "## Tutorial on sampling in a custom design space\n",
    "_v1.0_"
   ]
  },
  {
   "cell_type": "markdown",
   "metadata": {},
   "source": [
    "First we import the desired libraries:"
   ]
  },
  {
   "cell_type": "code",
   "execution_count": 1,
   "metadata": {},
   "outputs": [],
   "source": [
    "import f3dasm"
   ]
  },
  {
   "cell_type": "markdown",
   "metadata": {},
   "source": [
    "### Constructing the design space\n",
    "\n",
    "There are three types of parameters that can be created: continous, discrete and categorical:\n",
    "\n",
    "* We can create **continous** parameters with a `lower_bound` and `upper_bound` with the `ContinuousParameter` class"
   ]
  },
  {
   "cell_type": "code",
   "execution_count": 2,
   "metadata": {},
   "outputs": [],
   "source": [
    "x1 = f3dasm.ContinuousParameter(name='x1', lower_bound=0.0, upper_bound=100.0)\n",
    "x2 = f3dasm.ContinuousParameter(name='x2', lower_bound=0.0, upper_bound=4.0)"
   ]
  },
  {
   "cell_type": "markdown",
   "metadata": {},
   "source": [
    "* We can create **discrete** parameters with a `lower_bound` and `upper_bound` with the `DiscreteSpace` class"
   ]
  },
  {
   "cell_type": "code",
   "execution_count": 3,
   "metadata": {},
   "outputs": [],
   "source": [
    "x3 = f3dasm.DiscreteParameter('x3', lower_bound=2, upper_bound=4)\n",
    "x4 = f3dasm.DiscreteParameter('x4', lower_bound=74, upper_bound=99)"
   ]
  },
  {
   "cell_type": "markdown",
   "metadata": {},
   "source": [
    "* We can create **categorical** parameters with a list of strings (`categories`) with the `CategoricalSpace` class"
   ]
  },
  {
   "cell_type": "code",
   "execution_count": 4,
   "metadata": {},
   "outputs": [],
   "source": [
    "x5 = f3dasm.CategoricalParameter('x5', categories=['test1','test2','test3','test4'])\n",
    "x6 = f3dasm.CategoricalParameter('x6', categories=['material1','material2','material3'])"
   ]
  },
  {
   "cell_type": "markdown",
   "metadata": {},
   "source": [
    "`output_space` can be created in the same way:"
   ]
  },
  {
   "cell_type": "code",
   "execution_count": 5,
   "metadata": {},
   "outputs": [],
   "source": [
    "y = f3dasm.ContinuousParameter('y')"
   ]
  },
  {
   "cell_type": "markdown",
   "metadata": {},
   "source": [
    "The design space is then constructed by calling the `DoE` class:"
   ]
  },
  {
   "cell_type": "code",
   "execution_count": 6,
   "metadata": {},
   "outputs": [],
   "source": [
    "design = f3dasm.DesignSpace(input_space=[x1, x2, x3, x4, x5, x6], output_space=[y])"
   ]
  },
  {
   "cell_type": "code",
   "execution_count": 7,
   "metadata": {},
   "outputs": [
    {
     "ename": "AttributeError",
     "evalue": "'DesignSpace' object has no attribute 'create_empty_data_object'",
     "output_type": "error",
     "traceback": [
      "\u001b[0;31m---------------------------------------------------------------------------\u001b[0m",
      "\u001b[0;31mAttributeError\u001b[0m                            Traceback (most recent call last)",
      "\u001b[1;32m/home/jiaxiangyi/Documents/F3DASM/notebooks/tutorials/sampling.ipynb Cell 14\u001b[0m in \u001b[0;36m1\n\u001b[0;32m----> <a href='vscode-notebook-cell:/home/jiaxiangyi/Documents/F3DASM/notebooks/tutorials/sampling.ipynb#X16sZmlsZQ%3D%3D?line=0'>1</a>\u001b[0m design\u001b[39m.\u001b[39mcreate_empty_data_object()\n",
      "\u001b[0;31mAttributeError\u001b[0m: 'DesignSpace' object has no attribute 'create_empty_data_object'"
     ]
    }
   ],
   "source": [
    "design.create_empty_data_object()"
   ]
  },
  {
   "cell_type": "markdown",
   "metadata": {},
   "source": [
    "### Sampling from the design space\n",
    "\n",
    "Three samplers are included in this module:\n",
    "* Latin Hypercube sampling (`LatinHyperCube`)\n",
    "* Random uniform sampling (`RandomUniform`)\n",
    "* Sobol sequence sampling (`SobolSequencing`)\n",
    "\n",
    "We have to feed them the designspace:"
   ]
  },
  {
   "cell_type": "code",
   "execution_count": null,
   "metadata": {},
   "outputs": [],
   "source": [
    "lhs = f3dasm.sampling.LatinHypercubeSampling(doe=design)\n",
    "ran = f3dasm.sampling.RandomUniformSampling(doe=design)\n",
    "sob = f3dasm.sampling.SobolSequenceSampling(doe=design)"
   ]
  },
  {
   "cell_type": "markdown",
   "metadata": {},
   "source": [
    "We can evoke sampling by calling the `get_samples()` method and providing the number of samples:"
   ]
  },
  {
   "cell_type": "code",
   "execution_count": null,
   "metadata": {},
   "outputs": [],
   "source": [
    "N = 100 # Number of samples\n",
    "\n",
    "data_lhs = lhs.get_samples(N)\n",
    "data_ran = ran.get_samples(N)\n",
    "data_sob = sob.get_samples(N)"
   ]
  },
  {
   "cell_type": "markdown",
   "metadata": {},
   "source": [
    "Currently, only a 2D plotting function is implemented (`plot()`).\n",
    "This function requires the two parameter names: "
   ]
  },
  {
   "cell_type": "code",
   "execution_count": null,
   "metadata": {},
   "outputs": [],
   "source": [
    "data_lhs.plot(input_par1='x1',input_par2='x2')"
   ]
  },
  {
   "cell_type": "code",
   "execution_count": null,
   "metadata": {},
   "outputs": [],
   "source": [
    "data_ran.plot(input_par1='x1',input_par2='x2')"
   ]
  },
  {
   "cell_type": "code",
   "execution_count": null,
   "metadata": {},
   "outputs": [],
   "source": [
    "data_sob.plot(input_par1='x1',input_par2='x2')"
   ]
  },
  {
   "cell_type": "markdown",
   "metadata": {},
   "source": [
    "Categorical or discrete parameters can also be plotted:"
   ]
  },
  {
   "cell_type": "code",
   "execution_count": null,
   "metadata": {},
   "outputs": [],
   "source": [
    "data_lhs.plot(input_par1='x5',input_par2='x2')"
   ]
  }
 ],
 "metadata": {
  "interpreter": {
   "hash": "73193fbeb8677ab93f213154c0927f21dd4fccfe51cf5f6d1ad5a916be4d211f"
  },
  "kernelspec": {
   "display_name": "Python 3.10.4 ('testthings')",
   "language": "python",
   "name": "python3"
  },
  "language_info": {
   "codemirror_mode": {
    "name": "ipython",
    "version": 3
   },
   "file_extension": ".py",
   "mimetype": "text/x-python",
   "name": "python",
   "nbconvert_exporter": "python",
   "pygments_lexer": "ipython3",
   "version": "3.10.5"
  },
  "orig_nbformat": 4
 },
 "nbformat": 4,
 "nbformat_minor": 2
}
