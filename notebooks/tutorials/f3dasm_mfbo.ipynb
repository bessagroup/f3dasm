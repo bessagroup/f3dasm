{
 "cells": [
  {
   "cell_type": "markdown",
   "metadata": {},
   "source": [
    "# **PART 1**: Multi-fidelity Bayesian optimization (MFBO) with F3DASM"
   ]
  },
  {
   "cell_type": "markdown",
   "metadata": {},
   "source": [
    "This Jupyter notebook contains the workflow to obtain the results presented in the mulfi-fidelity review manuscript."
   ]
  },
  {
   "cell_type": "markdown",
   "metadata": {},
   "source": [
    "## 0. Clone the correct version of F3DASM.\n",
    "- Follow the procedure described on https://bessagroup.github.io/F3DASM/gettingstarted.html to access the `f3dasm` package.\n",
    "- Clone F3DASM and select the `versionleo` branch: https://github.com/bessagroup/F3DASM/tree/versionleo"
   ]
  },
  {
   "cell_type": "markdown",
   "metadata": {},
   "source": [
    "### 1. Import the necessary packages."
   ]
  },
  {
   "cell_type": "code",
   "execution_count": 1,
   "metadata": {},
   "outputs": [
    {
     "name": "stderr",
     "output_type": "stream",
     "text": [
      "2022-11-28 18:11:59.046164: I tensorflow/core/platform/cpu_feature_guard.cc:193] This TensorFlow binary is optimized with oneAPI Deep Neural Network Library (oneDNN) to use the following CPU instructions in performance-critical operations:  AVX2 FMA\n",
      "To enable them in other operations, rebuild TensorFlow with the appropriate compiler flags.\n",
      "2022-11-28 18:11:59.192500: W tensorflow/stream_executor/platform/default/dso_loader.cc:64] Could not load dynamic library 'libcudart.so.11.0'; dlerror: libcudart.so.11.0: cannot open shared object file: No such file or directory\n",
      "2022-11-28 18:11:59.192529: I tensorflow/stream_executor/cuda/cudart_stub.cc:29] Ignore above cudart dlerror if you do not have a GPU set up on your machine.\n",
      "2022-11-28 18:11:59.231236: E tensorflow/stream_executor/cuda/cuda_blas.cc:2981] Unable to register cuBLAS factory: Attempting to register factory for plugin cuBLAS when one has already been registered\n",
      "2022-11-28 18:11:59.840816: W tensorflow/stream_executor/platform/default/dso_loader.cc:64] Could not load dynamic library 'libnvinfer.so.7'; dlerror: libnvinfer.so.7: cannot open shared object file: No such file or directory\n",
      "2022-11-28 18:11:59.840872: W tensorflow/stream_executor/platform/default/dso_loader.cc:64] Could not load dynamic library 'libnvinfer_plugin.so.7'; dlerror: libnvinfer_plugin.so.7: cannot open shared object file: No such file or directory\n",
      "2022-11-28 18:11:59.840879: W tensorflow/compiler/tf2tensorrt/utils/py_utils.cc:38] TF-TRT Warning: Cannot dlopen some TensorRT libraries. If you would like to use Nvidia GPU with TensorRT, please make sure the missing libraries mentioned above are installed properly.\n"
     ]
    },
    {
     "name": "stdout",
     "output_type": "stream",
     "text": [
      "warning in stationary: failed to import cython module: falling back to numpy\n",
      "warning in coregionalize: failed to import cython module: falling back to numpy\n",
      "warning in choleskies: failed to import cython module: falling back to numpy\n"
     ]
    }
   ],
   "source": [
    "import f3dasm\n",
    "import numpy as np"
   ]
  },
  {
   "cell_type": "markdown",
   "metadata": {},
   "source": [
    "### 2. Define the hyperparameters\n",
    "\n",
    "Some hyperparameters are entered by default, for example the Gaussian process kernel and the multi-fidelity acquisition function."
   ]
  },
  {
   "cell_type": "code",
   "execution_count": 2,
   "metadata": {},
   "outputs": [],
   "source": [
    "dim = 1\n",
    "iterations = 10\n",
    "seed = 123\n",
    "samp_nos = [5, 2] # no. of initial DoE points\n",
    "fids = [0.5, 1.] # add comments... \n",
    "costs = [0.5, 1.]"
   ]
  },
  {
   "cell_type": "markdown",
   "metadata": {},
   "source": [
    "### 3. Specify the multi-fidelity problem\n",
    "\n",
    "- This means that the functions or models that represent the different fidelities need to be defined and collected into a multi-fidelity function. \n",
    "\n",
    "- The design space corresponding to this multi-fidelity function is also needed, in order to define a sampler to sample initial training data from."
   ]
  },
  {
   "cell_type": "markdown",
   "metadata": {},
   "source": [
    "The review manuscript works with augmented analytical functions to create the basis of a multi-fidelity problem. \n",
    "\n",
    "This starts by picking a base function."
   ]
  },
  {
   "cell_type": "code",
   "execution_count": 3,
   "metadata": {},
   "outputs": [],
   "source": [
    "base_fun = f3dasm.functions.AlpineN2(\n",
    "    dimensionality=dim,\n",
    "    scale_bounds=np.tile([0.0, 1.0], (dim, 1)),\n",
    "    )"
   ]
  },
  {
   "cell_type": "markdown",
   "metadata": {},
   "source": [
    "Once the function has been defined, the pipeline function `create_analytical_mf_problem` can be used to generate the multi-fidelity assets needed to run the optimization problem."
   ]
  },
  {
   "cell_type": "code",
   "execution_count": 4,
   "metadata": {},
   "outputs": [],
   "source": [
    "mf_train_data, mffun, _, mf_sampler = f3dasm.create_analytical_mf_problem(\n",
    "    base_fun=base_fun,\n",
    "    dim=dim,\n",
    "    fids=fids,\n",
    "    costs=costs,\n",
    "    samp_nos=samp_nos,\n",
    "    )"
   ]
  },
  {
   "cell_type": "code",
   "execution_count": 5,
   "metadata": {},
   "outputs": [
    {
     "data": {
      "text/plain": [
       "Data(design=DesignSpace(input_space=[ContinuousParameter(name='x0', _type='float', lower_bound=0.0, upper_bound=1.0), ConstantParameter(name='fid', _type='float', constant_value=1.0)], output_space=[ContinuousParameter(name='y', _type='float', lower_bound=-inf, upper_bound=inf)]), data=  input        output\n",
       "     x0  fid        y\n",
       "0   0.0  1.0  0.00000\n",
       "1   0.5  1.0  2.14422)"
      ]
     },
     "execution_count": 5,
     "metadata": {},
     "output_type": "execute_result"
    }
   ],
   "source": [
    "mf_train_data[1]\n"
   ]
  },
  {
   "cell_type": "markdown",
   "metadata": {},
   "source": [
    "### 4. Define and initialize optimizer\n",
    "\n",
    "This optimizer makes use of the variable-fidelity UCB acquisition function.\n",
    "\n",
    "```\n",
    "Jiang, P.; Cheng, J.; Zhou, Q.; Shu, L. & Hu, J.\n",
    "Variable-fidelity lower confidence bounding approach for engineering optimization problems with expensive simulations\n",
    "AIAA Journal, American Institute of Aeronautics and Astronautics, 2019, 57, 5416-5430\n",
    "```"
   ]
  },
  {
   "cell_type": "code",
   "execution_count": 6,
   "metadata": {},
   "outputs": [],
   "source": [
    "optimizer = f3dasm.optimization.MFBayesianOptimizationTorch(\n",
    "    data=mf_train_data,\n",
    "    mffun=mffun,\n",
    ")\n",
    "\n",
    "optimizer.init_parameters()"
   ]
  },
  {
   "cell_type": "markdown",
   "metadata": {},
   "source": [
    "### 5. Run optimization and obtain results"
   ]
  },
  {
   "cell_type": "code",
   "execution_count": 7,
   "metadata": {},
   "outputs": [
    {
     "name": "stdout",
     "output_type": "stream",
     "text": [
      "iteration 0\n",
      "[[0.78157627 0.5       ]] [[-1.3968135]]\n",
      "iteration 1\n",
      "[[0.8067155 0.5      ]] [[-1.38799132]]\n",
      "iteration 2\n",
      "[[0.81962762 0.5       ]] [[-1.34841381]]\n",
      "iteration 3\n",
      "[[0.82046568 0.5       ]] [[-1.34502702]]\n",
      "iteration 4\n",
      "[[0.82072046 0.5       ]] [[-1.34397777]]\n",
      "iteration 5\n",
      "[[0.82086617 0.5       ]] [[-1.34337355]]\n",
      "iteration 6\n",
      "[[0.82095456 0.5       ]] [[-1.34300558]]\n",
      "iteration 7\n",
      "[[0.82100717 0.5       ]] [[-1.34278607]]\n",
      "iteration 8\n",
      "[[0.82103197 0.5       ]] [[-1.34268242]]\n",
      "iteration 9\n",
      "[[0.82102681 0.5       ]] [[-1.34270401]]\n"
     ]
    }
   ],
   "source": [
    "res = f3dasm.run_mf_optimization(\n",
    "    optimizer=optimizer,\n",
    "    mffunction=mffun,\n",
    "    sampler=mf_sampler[-1],# remove / adjust this!\n",
    "    iterations=iterations,\n",
    "    seed=123,\n",
    "    number_of_samples=samp_nos,\n",
    ")\n",
    "\n",
    "# Add more options to run / define optimizers"
   ]
  },
  {
   "cell_type": "code",
   "execution_count": 8,
   "metadata": {},
   "outputs": [
    {
     "data": {
      "text/html": [
       "<div>\n",
       "<style scoped>\n",
       "    .dataframe tbody tr th:only-of-type {\n",
       "        vertical-align: middle;\n",
       "    }\n",
       "\n",
       "    .dataframe tbody tr th {\n",
       "        vertical-align: top;\n",
       "    }\n",
       "\n",
       "    .dataframe thead tr th {\n",
       "        text-align: left;\n",
       "    }\n",
       "</style>\n",
       "<table border=\"1\" class=\"dataframe\">\n",
       "  <thead>\n",
       "    <tr>\n",
       "      <th></th>\n",
       "      <th colspan=\"2\" halign=\"left\">input</th>\n",
       "      <th>output</th>\n",
       "    </tr>\n",
       "    <tr>\n",
       "      <th></th>\n",
       "      <th>x0</th>\n",
       "      <th>fid</th>\n",
       "      <th>y</th>\n",
       "    </tr>\n",
       "  </thead>\n",
       "  <tbody>\n",
       "    <tr>\n",
       "      <th>0</th>\n",
       "      <td>0.000000</td>\n",
       "      <td>0.5</td>\n",
       "      <td>0.000000</td>\n",
       "    </tr>\n",
       "    <tr>\n",
       "      <th>1</th>\n",
       "      <td>0.500000</td>\n",
       "      <td>0.5</td>\n",
       "      <td>1.072110</td>\n",
       "    </tr>\n",
       "    <tr>\n",
       "      <th>2</th>\n",
       "      <td>0.750000</td>\n",
       "      <td>0.5</td>\n",
       "      <td>-1.284409</td>\n",
       "    </tr>\n",
       "    <tr>\n",
       "      <th>3</th>\n",
       "      <td>0.250000</td>\n",
       "      <td>0.5</td>\n",
       "      <td>-0.473134</td>\n",
       "    </tr>\n",
       "    <tr>\n",
       "      <th>4</th>\n",
       "      <td>0.375000</td>\n",
       "      <td>0.5</td>\n",
       "      <td>0.553412</td>\n",
       "    </tr>\n",
       "    <tr>\n",
       "      <th>5</th>\n",
       "      <td>0.000000</td>\n",
       "      <td>1.0</td>\n",
       "      <td>0.000000</td>\n",
       "    </tr>\n",
       "    <tr>\n",
       "      <th>6</th>\n",
       "      <td>0.500000</td>\n",
       "      <td>1.0</td>\n",
       "      <td>2.144220</td>\n",
       "    </tr>\n",
       "    <tr>\n",
       "      <th>7</th>\n",
       "      <td>0.781576</td>\n",
       "      <td>0.5</td>\n",
       "      <td>-1.396814</td>\n",
       "    </tr>\n",
       "    <tr>\n",
       "      <th>8</th>\n",
       "      <td>0.806716</td>\n",
       "      <td>0.5</td>\n",
       "      <td>-1.387991</td>\n",
       "    </tr>\n",
       "    <tr>\n",
       "      <th>9</th>\n",
       "      <td>0.819628</td>\n",
       "      <td>0.5</td>\n",
       "      <td>-1.348414</td>\n",
       "    </tr>\n",
       "    <tr>\n",
       "      <th>10</th>\n",
       "      <td>0.820466</td>\n",
       "      <td>0.5</td>\n",
       "      <td>-1.345027</td>\n",
       "    </tr>\n",
       "    <tr>\n",
       "      <th>11</th>\n",
       "      <td>0.820720</td>\n",
       "      <td>0.5</td>\n",
       "      <td>-1.343978</td>\n",
       "    </tr>\n",
       "    <tr>\n",
       "      <th>12</th>\n",
       "      <td>0.820866</td>\n",
       "      <td>0.5</td>\n",
       "      <td>-1.343374</td>\n",
       "    </tr>\n",
       "    <tr>\n",
       "      <th>13</th>\n",
       "      <td>0.820955</td>\n",
       "      <td>0.5</td>\n",
       "      <td>-1.343006</td>\n",
       "    </tr>\n",
       "    <tr>\n",
       "      <th>14</th>\n",
       "      <td>0.821007</td>\n",
       "      <td>0.5</td>\n",
       "      <td>-1.342786</td>\n",
       "    </tr>\n",
       "    <tr>\n",
       "      <th>15</th>\n",
       "      <td>0.821032</td>\n",
       "      <td>0.5</td>\n",
       "      <td>-1.342682</td>\n",
       "    </tr>\n",
       "    <tr>\n",
       "      <th>16</th>\n",
       "      <td>0.821027</td>\n",
       "      <td>0.5</td>\n",
       "      <td>-1.342704</td>\n",
       "    </tr>\n",
       "  </tbody>\n",
       "</table>\n",
       "</div>"
      ],
      "text/plain": [
       "       input         output\n",
       "          x0  fid         y\n",
       "0   0.000000  0.5  0.000000\n",
       "1   0.500000  0.5  1.072110\n",
       "2   0.750000  0.5 -1.284409\n",
       "3   0.250000  0.5 -0.473134\n",
       "4   0.375000  0.5  0.553412\n",
       "5   0.000000  1.0  0.000000\n",
       "6   0.500000  1.0  2.144220\n",
       "7   0.781576  0.5 -1.396814\n",
       "8   0.806716  0.5 -1.387991\n",
       "9   0.819628  0.5 -1.348414\n",
       "10  0.820466  0.5 -1.345027\n",
       "11  0.820720  0.5 -1.343978\n",
       "12  0.820866  0.5 -1.343374\n",
       "13  0.820955  0.5 -1.343006\n",
       "14  0.821007  0.5 -1.342786\n",
       "15  0.821032  0.5 -1.342682\n",
       "16  0.821027  0.5 -1.342704"
      ]
     },
     "execution_count": 8,
     "metadata": {},
     "output_type": "execute_result"
    }
   ],
   "source": [
    "\n",
    "res[1].data"
   ]
  }
 ],
 "metadata": {
  "kernelspec": {
   "display_name": "Python 3.10.6 ('f3dasm_env')",
   "language": "python",
   "name": "python3"
  },
  "language_info": {
   "codemirror_mode": {
    "name": "ipython",
    "version": 3
   },
   "file_extension": ".py",
   "mimetype": "text/x-python",
   "name": "python",
   "nbconvert_exporter": "python",
   "pygments_lexer": "ipython3",
   "version": "3.10.6"
  },
  "orig_nbformat": 4,
  "vscode": {
   "interpreter": {
    "hash": "a9d896b1e26959336e7f4be8af34f758934959c162bfe59669aabbaab50cee31"
   }
  }
 },
 "nbformat": 4,
 "nbformat_minor": 2
}
