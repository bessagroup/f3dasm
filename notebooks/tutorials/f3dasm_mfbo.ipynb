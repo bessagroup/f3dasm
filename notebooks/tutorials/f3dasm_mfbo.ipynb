{
 "cells": [
  {
   "cell_type": "markdown",
   "metadata": {},
   "source": [
    "# **PART 1**: Multi-fidelity Bayesian optimization (MFBO) with F3DASM"
   ]
  },
  {
   "cell_type": "markdown",
   "metadata": {},
   "source": [
    "This Jupyter notebook contains the workflow to obtain the results presented in the mulfi-fidelity review manuscript."
   ]
  },
  {
   "cell_type": "markdown",
   "metadata": {},
   "source": [
    "## 0. Clone the correct version of F3DASM.\n",
    "- Follow the procedure described on https://bessagroup.github.io/F3DASM/gettingstarted.html to access the `f3dasm` package.\n",
    "- Clone F3DASM and select the `versionleo` branch: https://github.com/bessagroup/F3DASM/tree/versionleo"
   ]
  },
  {
   "cell_type": "markdown",
   "metadata": {},
   "source": [
    "### 1. Import the necessary packages."
   ]
  },
  {
   "cell_type": "code",
   "execution_count": null,
   "metadata": {},
   "outputs": [],
   "source": [
    "import f3dasm\n",
    "import numpy as np"
   ]
  },
  {
   "cell_type": "markdown",
   "metadata": {},
   "source": [
    "### 2. Define the hyperparameters\n",
    "\n",
    "Some hyperparameters are entered by default, for example the Gaussian process kernel and the multi-fidelity acquisition function."
   ]
  },
  {
   "cell_type": "code",
   "execution_count": null,
   "metadata": {},
   "outputs": [],
   "source": [
    "dim = 1\n",
    "iterations = 10\n",
    "seed = 123\n",
    "samp_nos = [20, 10]\n",
    "fids = [0.5, 1.]\n",
    "costs = [0.5, 1.]"
   ]
  },
  {
   "cell_type": "markdown",
   "metadata": {},
   "source": [
    "### 3. Specify the multi-fidelity problem\n",
    "\n",
    "- This means that the functions or models that represent the different fidelities need to be defined and collected into a multi-fidelity function. \n",
    "\n",
    "- The design space corresponding to this multi-fidelity function is also needed, in order to define a sampler to sample initial training data from."
   ]
  },
  {
   "cell_type": "markdown",
   "metadata": {},
   "source": [
    "The review manuscript works with augmented analytical functions to create the basis of a multi-fidelity problem. \n",
    "\n",
    "This starts by picking a base function."
   ]
  },
  {
   "cell_type": "code",
   "execution_count": null,
   "metadata": {},
   "outputs": [],
   "source": [
    "base_fun = f3dasm.functions.AlpineN2(\n",
    "    dimensionality=dim,\n",
    "    scale_bounds=np.tile([0.0, 1.0], (dim, 1)),\n",
    "    )"
   ]
  },
  {
   "cell_type": "markdown",
   "metadata": {},
   "source": [
    "Once the function has been defined, the pipeline function `create_analytical_mf_problem` can be used to generate the multi-fidelity assets needed to run the optimization problem."
   ]
  },
  {
   "cell_type": "code",
   "execution_count": null,
   "metadata": {},
   "outputs": [],
   "source": [
    "\n",
    "mf_train_data, mffun, _, mf_sampler = f3dasm.create_analytical_mf_problem(\n",
    "    base_fun=base_fun,\n",
    "    dim=dim,\n",
    "    fids=fids,\n",
    "    costs=costs,\n",
    "    samp_nos=samp_nos,\n",
    "    )"
   ]
  },
  {
   "cell_type": "markdown",
   "metadata": {},
   "source": [
    "### 4. Define and initialize optimizer\n",
    "\n",
    "This optimizer makes use of the variable-fidelity UCB acquisition function.\n",
    "\n",
    "```\n",
    "Jiang, P.; Cheng, J.; Zhou, Q.; Shu, L. & Hu, J.\n",
    "Variable-fidelity lower confidence bounding approach for engineering optimization problems with expensive simulations\n",
    "AIAA Journal, American Institute of Aeronautics and Astronautics, 2019, 57, 5416-5430\n",
    "```"
   ]
  },
  {
   "cell_type": "code",
   "execution_count": null,
   "metadata": {},
   "outputs": [],
   "source": [
    "optimizer = f3dasm.optimization.MFBayesianOptimizationTorch(\n",
    "    data=mf_train_data,\n",
    "    mffun=mffun,\n",
    ")\n",
    "\n",
    "optimizer.init_parameters()"
   ]
  },
  {
   "cell_type": "markdown",
   "metadata": {},
   "source": [
    "### 5. Run optimization and obtain results"
   ]
  },
  {
   "cell_type": "code",
   "execution_count": null,
   "metadata": {},
   "outputs": [],
   "source": [
    "\n",
    "res = f3dasm.run_mf_optimization(\n",
    "    optimizer=optimizer,\n",
    "    mffunction=mffun,\n",
    "    sampler=mf_sampler[-1],\n",
    "    iterations=iterations,\n",
    "    seed=123,\n",
    "    number_of_samples=samp_nos,\n",
    ")\n"
   ]
  },
  {
   "cell_type": "code",
   "execution_count": null,
   "metadata": {},
   "outputs": [],
   "source": [
    "\n",
    "res[1].data"
   ]
  }
 ],
 "metadata": {
  "kernelspec": {
   "display_name": "Python 3.10.6 ('f3dasm_env')",
   "language": "python",
   "name": "python3"
  },
  "language_info": {
   "codemirror_mode": {
    "name": "ipython",
    "version": 3
   },
   "file_extension": ".py",
   "mimetype": "text/x-python",
   "name": "python",
   "nbconvert_exporter": "python",
   "pygments_lexer": "ipython3",
   "version": "3.10.6"
  },
  "orig_nbformat": 4,
  "vscode": {
   "interpreter": {
    "hash": "a9d896b1e26959336e7f4be8af34f758934959c162bfe59669aabbaab50cee31"
   }
  }
 },
 "nbformat": 4,
 "nbformat_minor": 2
}
