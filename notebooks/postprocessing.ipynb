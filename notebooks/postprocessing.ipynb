{
 "cells": [
  {
   "cell_type": "code",
   "execution_count": null,
   "metadata": {},
   "outputs": [],
   "source": [
    "import f3dasm\n",
    "import numpy as np\n",
    "import pandas as pd\n",
    "import matplotlib.pyplot as plt"
   ]
  },
  {
   "cell_type": "code",
   "execution_count": null,
   "metadata": {},
   "outputs": [],
   "source": [
    "plt.style.use('science')"
   ]
  },
  {
   "cell_type": "code",
   "execution_count": null,
   "metadata": {},
   "outputs": [],
   "source": [
    "dim = 3\n",
    "bounds = np.tile([-1.0,1.0], (dim, 1))\n",
    "design = f3dasm.make_nd_continuous_design(bounds=bounds, dimensionality=dim)\n",
    "data = f3dasm.Data(design=design)"
   ]
  },
  {
   "cell_type": "code",
   "execution_count": null,
   "metadata": {},
   "outputs": [],
   "source": [
    "args = {\n",
    "'realizations': 3,\n",
    "'iterations': 100,\n",
    "'function': f3dasm.functions.Levy(dimensionality=dim, noise=None, scale_bounds=bounds),\n",
    "'sampler': f3dasm.sampling.LatinHypercubeSampling(design=design),\n",
    "'verbal': True\n",
    "}\n",
    "\n"
   ]
  },
  {
   "cell_type": "code",
   "execution_count": null,
   "metadata": {},
   "outputs": [],
   "source": [
    "args['function'].offset"
   ]
  },
  {
   "cell_type": "code",
   "execution_count": null,
   "metadata": {},
   "outputs": [],
   "source": [
    "args['function'].plot(domain=bounds,px=100)"
   ]
  },
  {
   "cell_type": "code",
   "execution_count": null,
   "metadata": {},
   "outputs": [],
   "source": [
    "# hyperparameters=[{'learning_rate': x} for x in np.logspace(-8,2,11)]\n",
    "# hyperparameters\n"
   ]
  },
  {
   "cell_type": "code",
   "execution_count": null,
   "metadata": {},
   "outputs": [],
   "source": [
    "# results = []\n",
    "\n",
    "# for h in hyperparameters:\n",
    "#     args_temp = args.copy()\n",
    "#     args_temp['optimizer'] = f3dasm.optimization.Adamax(data=data, hyperparameters=h)\n",
    "#     results.append(f3dasm.run_multiple_realizations(**args_temp))"
   ]
  },
  {
   "cell_type": "code",
   "execution_count": null,
   "metadata": {},
   "outputs": [],
   "source": [
    "results = []\n",
    "\n",
    "for opt in [f3dasm.optimization.Adam, f3dasm.optimization.Adam2]:\n",
    "    args_temp = args.copy()\n",
    "    args_temp['optimizer'] = opt(data=data)\n",
    "    results.append(f3dasm.run_multiple_realizations(**args_temp))"
   ]
  },
  {
   "cell_type": "code",
   "execution_count": null,
   "metadata": {},
   "outputs": [],
   "source": [
    "def calc_mean_std(results):\n",
    "    mean_y = pd.concat([d.get_output_data().cummin() for d in results], axis=1).mean(axis=1)\n",
    "    std_y = pd.concat([d.get_output_data().cummin() for d in results], axis=1).std(axis=1)\n",
    "    return mean_y, std_y"
   ]
  },
  {
   "cell_type": "code",
   "execution_count": null,
   "metadata": {},
   "outputs": [],
   "source": [
    "def plot_results(results, ax):\n",
    "    mean_y, std_y = calc_mean_std(results.data)\n",
    "\n",
    "    ax.plot(mean_y, label=f\"optimizer={results.optimizer}\")\n",
    "\n",
    "    ax.fill_between(np.arange(len(mean_y)), mean_y-1.96*std_y, mean_y+1.96*std_y, alpha=.1)\n",
    "\n",
    "    return ax"
   ]
  },
  {
   "cell_type": "code",
   "execution_count": null,
   "metadata": {},
   "outputs": [],
   "source": [
    "fig, ax = plt.figure(figsize=(15,8)), plt.axes()\n",
    "\n",
    "ax.set_xlabel('iterations')\n",
    "ax.set_ylabel('f(x)')\n",
    "ax.set_yscale('log')\n",
    "\n",
    "opt_names = ['Adam','Adam2']\n",
    "\n",
    "for index, res in enumerate(results):\n",
    "    ax = plot_results(res, ax, f\"optimizer={opt_names[index]}\")\n",
    "\n",
    "ax.legend(loc='lower right', bbox_to_anchor=(0.5, 1.05),\n",
    "          ncol=3, fancybox=True, shadow=True)"
   ]
  },
  {
   "cell_type": "code",
   "execution_count": null,
   "metadata": {},
   "outputs": [],
   "source": []
  }
 ],
 "metadata": {
  "interpreter": {
   "hash": "cd4aa09bf73c11ef3239c620489b85906b4cadb309e0ddddf54fa55967002edb"
  },
  "kernelspec": {
   "display_name": "Python 3.10.5 ('f3dasm_env')",
   "language": "python",
   "name": "python3"
  },
  "language_info": {
   "codemirror_mode": {
    "name": "ipython",
    "version": 3
   },
   "file_extension": ".py",
   "mimetype": "text/x-python",
   "name": "python",
   "nbconvert_exporter": "python",
   "pygments_lexer": "ipython3",
   "version": "3.10.6"
  },
  "orig_nbformat": 4
 },
 "nbformat": 4,
 "nbformat_minor": 2
}
