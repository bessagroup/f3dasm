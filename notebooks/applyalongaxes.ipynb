{
 "cells": [
  {
   "cell_type": "code",
   "execution_count": 1,
   "metadata": {},
   "outputs": [],
   "source": [
    "import f3dasm\n",
    "import numpy as np"
   ]
  },
  {
   "cell_type": "code",
   "execution_count": 2,
   "metadata": {},
   "outputs": [],
   "source": [
    "d = 3\n",
    "function = f3dasm.functions.Levy(dimensionality=d, scale_bounds=np.tile([-1.,1.], (d,1)))"
   ]
  },
  {
   "cell_type": "code",
   "execution_count": 6,
   "metadata": {},
   "outputs": [
    {
     "data": {
      "text/plain": [
       "array([[0.  , 1.  , 0.3 ],\n",
       "       [0.2 , 0.4 , 0.7 ],\n",
       "       [0.13, 0.  , 0.12]])"
      ]
     },
     "execution_count": 6,
     "metadata": {},
     "output_type": "execute_result"
    }
   ],
   "source": [
    "xx = np.array([[0.,1.,0.3], [0.2,0.4,0.7], [0.13,0.0,0.12]])\n",
    "xx"
   ]
  },
  {
   "cell_type": "code",
   "execution_count": 7,
   "metadata": {},
   "outputs": [
    {
     "data": {
      "text/plain": [
       "array([[0.70547865, 0.25385984, 0.65046922]])"
      ]
     },
     "execution_count": 7,
     "metadata": {},
     "output_type": "execute_result"
    }
   ],
   "source": [
    "x = function.get_global_minimum(d)[0]\n",
    "x"
   ]
  },
  {
   "cell_type": "code",
   "execution_count": 13,
   "metadata": {},
   "outputs": [
    {
     "data": {
      "text/plain": [
       "array([48.74663132,  3.69937824, 12.23188471])"
      ]
     },
     "execution_count": 13,
     "metadata": {},
     "output_type": "execute_result"
    }
   ],
   "source": [
    "function(xx)"
   ]
  },
  {
   "cell_type": "code",
   "execution_count": 28,
   "metadata": {},
   "outputs": [],
   "source": [
    "def new_func(x):\n",
    "    y = []\n",
    "    for xi in x:\n",
    "        y.append(function(xi))\n",
    "\n",
    "    return np.array(y).ravel()"
   ]
  },
  {
   "cell_type": "code",
   "execution_count": 29,
   "metadata": {},
   "outputs": [
    {
     "data": {
      "text/plain": [
       "True"
      ]
     },
     "execution_count": 29,
     "metadata": {},
     "output_type": "execute_result"
    }
   ],
   "source": [
    "(new_func(x) == function(x)).all()"
   ]
  },
  {
   "cell_type": "code",
   "execution_count": 5,
   "metadata": {},
   "outputs": [
    {
     "ename": "IndexError",
     "evalue": "index 1 is out of bounds for axis 0 with size 1",
     "output_type": "error",
     "traceback": [
      "\u001b[0;31m---------------------------------------------------------------------------\u001b[0m",
      "\u001b[0;31mIndexError\u001b[0m                                Traceback (most recent call last)",
      "Input \u001b[0;32mIn [5]\u001b[0m, in \u001b[0;36m<cell line: 3>\u001b[0;34m()\u001b[0m\n\u001b[1;32m      5\u001b[0m \u001b[39mfor\u001b[39;00m ii \u001b[39min\u001b[39;00m np\u001b[39m.\u001b[39mndindex(Ni):\n\u001b[1;32m      6\u001b[0m     \u001b[39mfor\u001b[39;00m kk \u001b[39min\u001b[39;00m np\u001b[39m.\u001b[39mndindex(Nk):\n\u001b[0;32m----> 7\u001b[0m         f \u001b[39m=\u001b[39m function\u001b[39m.\u001b[39mevaluate(x[ii \u001b[39m+\u001b[39;49m np\u001b[39m.\u001b[39;49ms_[:,] \u001b[39m+\u001b[39;49m kk])\n\u001b[1;32m      8\u001b[0m         Nj \u001b[39m=\u001b[39m f\u001b[39m.\u001b[39mshape\n\u001b[1;32m      9\u001b[0m         \u001b[39mfor\u001b[39;00m jj \u001b[39min\u001b[39;00m np\u001b[39m.\u001b[39mndindex(Nj):\n",
      "\u001b[0;31mIndexError\u001b[0m: index 1 is out of bounds for axis 0 with size 1"
     ]
    }
   ],
   "source": [
    "axis = 1\n",
    "out = np.zeros(shape=x.shape)\n",
    "for a in x:\n",
    "    Ni, Nk = a.shape[:axis], a.shape[axis+1:]\n",
    "    for ii in np.ndindex(Ni):\n",
    "        for kk in np.ndindex(Nk):\n",
    "            f = function.evaluate(x[ii + np.s_[:,] + kk])\n",
    "            Nj = f.shape\n",
    "            for jj in np.ndindex(Nj):\n",
    "                out[ii + jj + kk] = f[jj]"
   ]
  },
  {
   "cell_type": "code",
   "execution_count": null,
   "metadata": {},
   "outputs": [],
   "source": []
  }
 ],
 "metadata": {
  "interpreter": {
   "hash": "cd4aa09bf73c11ef3239c620489b85906b4cadb309e0ddddf54fa55967002edb"
  },
  "kernelspec": {
   "display_name": "Python 3.10.5 ('f3dasm_env')",
   "language": "python",
   "name": "python3"
  },
  "language_info": {
   "codemirror_mode": {
    "name": "ipython",
    "version": 3
   },
   "file_extension": ".py",
   "mimetype": "text/x-python",
   "name": "python",
   "nbconvert_exporter": "python",
   "pygments_lexer": "ipython3",
   "version": "3.10.6"
  },
  "orig_nbformat": 4
 },
 "nbformat": 4,
 "nbformat_minor": 2
}
