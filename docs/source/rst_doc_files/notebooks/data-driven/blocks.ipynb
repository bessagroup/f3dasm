{
 "cells": [
  {
   "cell_type": "markdown",
   "metadata": {},
   "source": [
    "# Blocks\n",
    "\n",
    "In the `f3dasm` framework, every component of the data-driven process is encapsulated as a `Block`. A block is an object designed to work with an `ExperimentData` instance. When invoked, it processes the data within the `ExperimentData` instance and produces a new `ExperimentData` instance. By chaining different blocks, you can construct a complete data-driven pipeline."
   ]
  },
  {
   "cell_type": "markdown",
   "metadata": {},
   "source": [
    "The block base class looks like this:\n",
    "\n",
    "```python\n",
    "\n",
    "class Block(ABC):\n",
    "    def arm(self, data: ExperimentData) -> None:\n",
    "        self.data = data\n",
    "\n",
    "    @abstractmethod\n",
    "    def call(self, **kwargs) -> ExperimentData:\n",
    "        pass\n",
    "\n",
    "```\n",
    "\n",
    "To create a new block, subclass the `Block` class and implement the `call` method. This method is executed when the block is invoked, accepting any keyword arguments and returning an `ExperimentData` instance. Before the `call` method runs, the `arm` method is used to equip the block with the `ExperimentData` instance it will process.\n"
   ]
  },
  {
   "cell_type": "markdown",
   "metadata": {},
   "source": [
    "```python\n",
    "\n",
    "class CustomBlock(Block)\n",
    "    def call(self):\n",
    "        ...\n",
    "        # Any method that manipulates dthe experiments\n",
    "        ...\n",
    "        return self.data\n"
   ]
  },
  {
   "cell_type": "markdown",
   "metadata": {},
   "source": [
    "\n",
    "In order to start the data-driven process, you need to create an `ExperimentData` instance and call the `run()` method of experiment data instance with the block object(s) you want to run."
   ]
  },
  {
   "cell_type": "markdown",
   "metadata": {},
   "source": [
    "```pyton\n",
    "custom_block = CustomBlock()\n",
    "\n",
    "experiment_data.run(block=custom_block)\n",
    "```"
   ]
  },
  {
   "cell_type": "code",
   "execution_count": 12,
   "metadata": {},
   "outputs": [],
   "source": [
    "from f3dasm import ExperimentData, Block\n",
    "from f3dasm.design import Domain\n",
    "\n",
    "\n",
    "# Create a new domain object\n",
    "domain = Domain()\n",
    "\n",
    "domain.add_parameter(name='word')\n",
    "\n",
    "input_data = [\n",
    "    {'word': 'bar'},\n",
    "    {'word': 'foo'},\n",
    "    {'word': 'bar'},\n",
    "]\n",
    "\n",
    "experiment_data = ExperimentData(domain=domain, input_data=input_data)\n",
    "experiment_data\n",
    "\n",
    "class ReadWord(Block):\n",
    "    def call(self):\n",
    "        for _, experiment_sample in self.data:\n",
    "            if experiment_sample.input_data['word'] == 'bar':\n",
    "                result = 1\n",
    "\n",
    "            else:\n",
    "                result = 0\n",
    "\n",
    "            experiment_sample.store(name='result', object=result)\n",
    "            experiment_sample.mark('finished')"
   ]
  },
  {
   "cell_type": "code",
   "execution_count": 13,
   "metadata": {},
   "outputs": [
    {
     "data": {
      "text/html": [
       "<div>\n",
       "<style scoped>\n",
       "    .dataframe tbody tr th:only-of-type {\n",
       "        vertical-align: middle;\n",
       "    }\n",
       "\n",
       "    .dataframe tbody tr th {\n",
       "        vertical-align: top;\n",
       "    }\n",
       "\n",
       "    .dataframe thead tr th {\n",
       "        text-align: left;\n",
       "    }\n",
       "</style>\n",
       "<table border=\"1\" class=\"dataframe\">\n",
       "  <thead>\n",
       "    <tr>\n",
       "      <th></th>\n",
       "      <th>jobs</th>\n",
       "      <th>input</th>\n",
       "      <th>output</th>\n",
       "    </tr>\n",
       "    <tr>\n",
       "      <th></th>\n",
       "      <th></th>\n",
       "      <th>word</th>\n",
       "      <th>result</th>\n",
       "    </tr>\n",
       "  </thead>\n",
       "  <tbody>\n",
       "    <tr>\n",
       "      <th>0</th>\n",
       "      <td>finished</td>\n",
       "      <td>bar</td>\n",
       "      <td>1</td>\n",
       "    </tr>\n",
       "    <tr>\n",
       "      <th>1</th>\n",
       "      <td>finished</td>\n",
       "      <td>foo</td>\n",
       "      <td>0</td>\n",
       "    </tr>\n",
       "    <tr>\n",
       "      <th>2</th>\n",
       "      <td>finished</td>\n",
       "      <td>bar</td>\n",
       "      <td>1</td>\n",
       "    </tr>\n",
       "  </tbody>\n",
       "</table>\n",
       "</div>"
      ],
      "text/plain": [
       "       jobs input output\n",
       "             word result\n",
       "0  finished   bar      1\n",
       "1  finished   foo      0\n",
       "2  finished   bar      1"
      ]
     },
     "execution_count": 13,
     "metadata": {},
     "output_type": "execute_result"
    }
   ],
   "source": [
    "read_word = ReadWord()\n",
    "experiment_data.run(read_word)\n",
    "experiment_data"
   ]
  },
  {
   "cell_type": "code",
   "execution_count": null,
   "metadata": {},
   "outputs": [],
   "source": []
  }
 ],
 "metadata": {
  "kernelspec": {
   "display_name": "f3dasm_env3",
   "language": "python",
   "name": "python3"
  },
  "language_info": {
   "codemirror_mode": {
    "name": "ipython",
    "version": 3
   },
   "file_extension": ".py",
   "mimetype": "text/x-python",
   "name": "python",
   "nbconvert_exporter": "python",
   "pygments_lexer": "ipython3",
   "version": "3.8.17"
  }
 },
 "nbformat": 4,
 "nbformat_minor": 2
}
