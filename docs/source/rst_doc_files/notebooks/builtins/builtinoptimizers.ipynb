{
 "cells": [
  {
   "cell_type": "markdown",
   "metadata": {},
   "source": [
    "# Use the built-in optimization algorithms"
   ]
  },
  {
   "cell_type": "markdown",
   "metadata": {},
   "source": [
    "In this example, we will use the built-in optimization algorithms to minimize a built-in benchmark function"
   ]
  },
  {
   "cell_type": "code",
   "execution_count": null,
   "metadata": {},
   "outputs": [],
   "source": [
    "from f3dasm.design import make_nd_continuous_domain\n",
    "domain = make_nd_continuous_domain(bounds=[[0., 1.], [0., 1.]])\n",
    "domain"
   ]
  },
  {
   "cell_type": "markdown",
   "metadata": {},
   "source": [
    "We sample random points from the search space and evaluate the function at these points with the `'Ackley'` function:"
   ]
  },
  {
   "cell_type": "code",
   "execution_count": null,
   "metadata": {},
   "outputs": [],
   "source": [
    "from f3dasm import ExperimentData\n",
    "# 1. Sample the points from the domain\n",
    "experiment_data = ExperimentData.from_sampling(sampler='random', domain=domain, n_samples=10, seed=42)\n",
    "\n",
    "# 2. Evaluate the points with the built-in Ackley function\n",
    "experiment_data.evaluate('Ackley', scale_bounds=[[0., 1.], [0., 1.]], offset=False)\n",
    "\n",
    "experiment_data"
   ]
  },
  {
   "cell_type": "markdown",
   "metadata": {},
   "source": [
    "Now we will use the built-in optimization algorithm `'Nelder-Mead'` to minimize the output paramater `'y'`"
   ]
  },
  {
   "cell_type": "markdown",
   "metadata": {},
   "source": [
    "## Method 1: Using the Optimizer Name as a String\n",
    "\n",
    "You can easily initiate optimization by calling the `optimize()` method of the `ExperimentData` object and passing the optimizer's name as a string.\n",
    "\n",
    "- **Iterative Optimization Process**: Since optimization occurs iteratively, you need to evaluate new points and update the `ExperimentData` object with the resulting data. To facilitate this, pass a `DataGenerator` object as an argument to the `optimize()` method. Any additional arguments for the `DataGenerator` can be provided as a dictionary through the `kwargs` parameter.\n",
    "- **Default and Custom Hyperparameters**: By default, the optimizer runs with predefined hyperparameters. To customize them, pass the desired hyperparameters as keyword arguments to the `optimize()` method.\n",
    "- **Specifying Iterations**: Use the `iterations` keyword to specify the number of function evaluations to perform during optimization.\n",
    "- **Initial Point Strategy (`x0_strategy`)**: This argument defines how the starting point of the optimization is selected:\n",
    "  - `'best'` (default): Uses the best point in the `ExperimentData` object as the starting point.\n",
    "  - `'last'`: Uses the most recently added point in the `ExperimentData` object as the starting point.\n",
    "  - `'new'`: Samples a new random point from the search space. Optionally, you can specify a `sampler` argument to control how the initial point is sampled (defaults to random uniform sampling)."
   ]
  },
  {
   "cell_type": "code",
   "execution_count": null,
   "metadata": {},
   "outputs": [],
   "source": [
    "experiment_data.optimize(optimizer='nelder mead', data_generator='ackley',\n",
    "                         kwargs={'scale_bounds': [[0., 1.], [0., 1.]], 'offset': False},\n",
    "                         iterations=10)"
   ]
  },
  {
   "cell_type": "code",
   "execution_count": null,
   "metadata": {},
   "outputs": [],
   "source": [
    "experiment_data"
   ]
  },
  {
   "cell_type": "markdown",
   "metadata": {},
   "source": [
    "## Method 2: Importing the optimizer from the `f3dasm.optimization` module\n",
    "\n",
    "Alternatively, you can import the optimizer from the `f3dasm.optimization` module and use it directly. This method provides more flexibility in customizing the optimizer's hyperparameters and behavior."
   ]
  },
  {
   "cell_type": "code",
   "execution_count": 9,
   "metadata": {},
   "outputs": [],
   "source": [
    "# Recreate the experiment data before optimizing\n",
    "experiment_data = ExperimentData.from_sampling(\n",
    "    sampler='random', domain=domain, n_samples=10, seed=42\n",
    "    )\n",
    "\n",
    "experiment_data.evaluate('Ackley', scale_bounds=[[0., 1.], [0., 1.]], offset=False)"
   ]
  },
  {
   "cell_type": "code",
   "execution_count": 10,
   "metadata": {},
   "outputs": [],
   "source": [
    "from f3dasm.optimization import nelder_mead"
   ]
  },
  {
   "cell_type": "markdown",
   "metadata": {},
   "source": [
    "The `nelder_mead` function can be called without parameters to use the default hyperparameters. To customize the optimizer, pass the desired hyperparameters as keyword arguments to the constructor:"
   ]
  },
  {
   "cell_type": "code",
   "execution_count": 11,
   "metadata": {},
   "outputs": [],
   "source": [
    "optimizer = nelder_mead()"
   ]
  },
  {
   "cell_type": "markdown",
   "metadata": {},
   "source": [
    "Now, we call the `optimize()` method with the optimizer object to perform the optimization."
   ]
  },
  {
   "cell_type": "code",
   "execution_count": null,
   "metadata": {},
   "outputs": [],
   "source": [
    "experiment_data.optimize(optimizer='nelder mead', data_generator='ackley',\n",
    "                         kwargs={'scale_bounds': [[0., 1.], [0., 1.]], 'offset': False},\n",
    "                         iterations=10)\n",
    "\n",
    "experiment_data"
   ]
  }
 ],
 "metadata": {
  "kernelspec": {
   "display_name": "f3dasm_env3",
   "language": "python",
   "name": "python3"
  },
  "language_info": {
   "codemirror_mode": {
    "name": "ipython",
    "version": 3
   },
   "file_extension": ".py",
   "mimetype": "text/x-python",
   "name": "python",
   "nbconvert_exporter": "python",
   "pygments_lexer": "ipython3",
   "version": "3.8.17"
  }
 },
 "nbformat": 4,
 "nbformat_minor": 2
}
