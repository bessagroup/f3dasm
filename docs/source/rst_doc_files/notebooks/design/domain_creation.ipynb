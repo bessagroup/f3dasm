{
 "cells": [
  {
   "cell_type": "markdown",
   "metadata": {},
   "source": [
    "# Introduction to domain and parameters\n",
    "\n",
    "This section will give you information on how to set up your search space with the `Domain` class and the paramaters\n",
    "The `Domain` contains a dictionary of parameter instances for both the `input_space` and `output_space` that make up the feasible search space.\n",
    "This notebook demonstrates how to use the `Domain` class effectively, from initialization to advanced use cases.\n",
    "\n",
    "The `Domain` class can be imported from the `f3dasm.design` module:"
   ]
  },
  {
   "cell_type": "code",
   "execution_count": 1,
   "metadata": {},
   "outputs": [],
   "source": [
    "from f3dasm.design import Domain"
   ]
  },
  {
   "cell_type": "markdown",
   "metadata": {},
   "source": [
    "A domain object can be created as follows"
   ]
  },
  {
   "cell_type": "markdown",
   "metadata": {},
   "source": [
    "---"
   ]
  },
  {
   "cell_type": "markdown",
   "metadata": {},
   "source": [
    "## Creating a Domain Object\n",
    "\n",
    "To start, we create an empty domain object:"
   ]
  },
  {
   "cell_type": "code",
   "execution_count": 2,
   "metadata": {},
   "outputs": [],
   "source": [
    "domain = Domain()"
   ]
  },
  {
   "cell_type": "markdown",
   "metadata": {},
   "source": [
    "---"
   ]
  },
  {
   "cell_type": "markdown",
   "metadata": {},
   "source": [
    "\n",
    "### Input Parameters\n",
    "\n",
    "Now we will add some input parameters. There are four types of parameters that can be created:\n",
    "\n",
    "- floating point parameters"
   ]
  },
  {
   "cell_type": "code",
   "execution_count": 3,
   "metadata": {},
   "outputs": [],
   "source": [
    "domain.add_float(name='x1', low=0.0, high=100.0)\n",
    "domain.add_float(name='x2', low=0.0, high=4.0)"
   ]
  },
  {
   "cell_type": "markdown",
   "metadata": {},
   "source": [
    "- discrete integer parameters"
   ]
  },
  {
   "cell_type": "code",
   "execution_count": 4,
   "metadata": {},
   "outputs": [],
   "source": [
    "domain.add_int(name='x3', low=2, high=4)\n",
    "domain.add_int(name='x4', low=74, high=99)"
   ]
  },
  {
   "cell_type": "markdown",
   "metadata": {},
   "source": [
    "- categorical parameters"
   ]
  },
  {
   "cell_type": "code",
   "execution_count": 5,
   "metadata": {},
   "outputs": [],
   "source": [
    "domain.add_category(name='x5', categories=['test1', 'test2', 'test3', 'test4'])\n",
    "domain.add_category(name='x6', categories=[0.9, 0.2, 0.1, -2])"
   ]
  },
  {
   "cell_type": "markdown",
   "metadata": {},
   "source": [
    "- constant parameters"
   ]
  },
  {
   "cell_type": "code",
   "execution_count": 6,
   "metadata": {},
   "outputs": [],
   "source": [
    "domain.add_constant(name='x7', value=0.9)"
   ]
  },
  {
   "cell_type": "markdown",
   "metadata": {},
   "source": [
    "if you want to create a parameter that does not have one of the above types, you can use the `add_parameter` method to add a parameter:"
   ]
  },
  {
   "cell_type": "code",
   "execution_count": 7,
   "metadata": {},
   "outputs": [],
   "source": [
    "domain.add_parameter(name='x8')"
   ]
  },
  {
   "cell_type": "markdown",
   "metadata": {},
   "source": [
    "We can print the domain object to see the parameters that have been added:"
   ]
  },
  {
   "cell_type": "code",
   "execution_count": 8,
   "metadata": {},
   "outputs": [
    {
     "name": "stdout",
     "output_type": "stream",
     "text": [
      "Domain(\n",
      "  Input Space: { x1: ContinuousParameter(lower_bound=0.0, upper_bound=100.0, log=False), x2: ContinuousParameter(lower_bound=0.0, upper_bound=4.0, log=False), x3: DiscreteParameter(lower_bound=2, upper_bound=4, step=1), x4: DiscreteParameter(lower_bound=74, upper_bound=99, step=1), x5: CategoricalParameter(categories=['test1', 'test2', 'test3', 'test4']), x6: CategoricalParameter(categories=[0.9, 0.2, 0.1, -2]), x7: ConstantParameter(value=0.9), x8: Parameter(type=object, to_disk=False) }\n",
      "  Output Space: {  }\n",
      ")\n"
     ]
    }
   ],
   "source": [
    "print(domain)"
   ]
  },
  {
   "cell_type": "markdown",
   "metadata": {},
   "source": [
    "---"
   ]
  },
  {
   "cell_type": "markdown",
   "metadata": {},
   "source": [
    "### Output Parameters\n",
    "\n",
    "Output parameters are the results of evaluating the input design with a data generation model. Output parameters can hold any type of data, e.g., a scalar value, a vector, a matrix, etc. Normally, you would not need to define output parameters, as they are created automatically when you store a variable to the `ExperimentData` object."
   ]
  },
  {
   "cell_type": "code",
   "execution_count": 9,
   "metadata": {},
   "outputs": [],
   "source": [
    "domain.add_output(name='y', to_disk=False)"
   ]
  },
  {
   "cell_type": "markdown",
   "metadata": {},
   "source": [
    "### Storing parameters on disk\n",
    "\n",
    "When the data associated with a parameter is very large (e.g., large arrays or matrices), you can choose to only store a reference in the `ExperimentData` object and store the data on disk. This can be done by setting the `to_disk` parameter to `True` when adding the parameter to the domain.\n",
    "\n",
    "`f3dasm` supports storing and loading data for a few commonly used data types:\n",
    "\n",
    "- numpy arrays\n",
    "- pandas dataframes\n",
    "- xarray datasets and data arrays\n",
    "\n",
    "For any other data types, you can define custom functions to store and load data. These functions should take the data as input and return a string that can be used to identify the data when loading it. You can define these functions using the `store_function` and `load_function` parameters when adding the parameter to the domain.\n",
    "\n",
    "The following example demonstrates how to store and load a numpy array to and from disk. We will use a custom store and load function for this example, but these functions are not necessary for numpy arrays, as `f3dasm` provides built-in support for storing and loading numpy arrays:"
   ]
  },
  {
   "cell_type": "code",
   "execution_count": 10,
   "metadata": {},
   "outputs": [],
   "source": [
    "from pathlib import Path\n",
    "import numpy as np\n",
    "\n",
    "def numpy_store(object: np.ndarray, path: str) -> str:\n",
    "    \"\"\"\n",
    "    Store a numpy array.\n",
    "\n",
    "    Parameters\n",
    "    ----------\n",
    "    object : np.ndarray\n",
    "        The numpy array to store.\n",
    "    path : str\n",
    "        The path where the array will be stored.\n",
    "\n",
    "    Returns\n",
    "    -------\n",
    "    str\n",
    "        The path to the stored array.\n",
    "    \"\"\"\n",
    "    _path = Path(path).with_suffix('.npy')\n",
    "    np.save(file=_path, arr=object)\n",
    "    return str(_path)\n",
    "\n",
    "\n",
    "def numpy_load(path: str) -> np.ndarray:\n",
    "    \"\"\"\n",
    "    Load a numpy array.\n",
    "\n",
    "    Parameters\n",
    "    ----------\n",
    "    path : str\n",
    "        The path to the array to load.\n",
    "\n",
    "    Returns\n",
    "    -------\n",
    "    np.ndarray\n",
    "        The loaded array.\n",
    "    \"\"\"\n",
    "    _path = Path(path).with_suffix('.npy')\n",
    "    return np.load(file=_path)"
   ]
  },
  {
   "cell_type": "markdown",
   "metadata": {},
   "source": [
    "With these functions defined, we can add the parameter to the input of the domain:"
   ]
  },
  {
   "cell_type": "code",
   "execution_count": 11,
   "metadata": {},
   "outputs": [],
   "source": [
    "domain.add_parameter(name='array_input', to_disk=True,\n",
    "                     store_function=numpy_store, load_function=numpy_load)"
   ]
  },
  {
   "cell_type": "markdown",
   "metadata": {},
   "source": [
    "In the same fashion, we can add an output parameter to the domain:"
   ]
  },
  {
   "cell_type": "code",
   "execution_count": 12,
   "metadata": {},
   "outputs": [],
   "source": [
    "domain.add_output(name='array_output', to_disk=True,\n",
    "                  store_function=numpy_store, load_function=numpy_load)"
   ]
  },
  {
   "cell_type": "markdown",
   "metadata": {},
   "source": [
    "---"
   ]
  },
  {
   "cell_type": "markdown",
   "metadata": {},
   "source": [
    "\n",
    "## Filtering the Domain\n",
    "\n",
    "The domain object can be filtered to only include certain types of parameters. This might be useful when you want to create a design of experiments with only continuous parameters, for example.\n",
    "\n",
    "The attributes `Domain.continuous`, `Domain.discrete`, `Domain.categorical`, and `Domain.constant` can be used to filter the domain object."
   ]
  },
  {
   "cell_type": "code",
   "execution_count": 13,
   "metadata": {},
   "outputs": [
    {
     "name": "stdout",
     "output_type": "stream",
     "text": [
      "Continuous domain: Domain(\n",
      "  Input Space: { x1: ContinuousParameter(lower_bound=0.0, upper_bound=100.0, log=False), x2: ContinuousParameter(lower_bound=0.0, upper_bound=4.0, log=False) }\n",
      "  Output Space: {  }\n",
      ")\n",
      "Discrete domain: Domain(\n",
      "  Input Space: { x3: DiscreteParameter(lower_bound=2, upper_bound=4, step=1), x4: DiscreteParameter(lower_bound=74, upper_bound=99, step=1) }\n",
      "  Output Space: {  }\n",
      ")\n",
      "Categorical domain: Domain(\n",
      "  Input Space: { x5: CategoricalParameter(categories=['test1', 'test2', 'test3', 'test4']), x6: CategoricalParameter(categories=[0.9, 0.2, 0.1, -2]) }\n",
      "  Output Space: {  }\n",
      ")\n",
      "Constant domain: Domain(\n",
      "  Input Space: { x7: ConstantParameter(value=0.9) }\n",
      "  Output Space: {  }\n",
      ")\n"
     ]
    }
   ],
   "source": [
    "print(f\"Continuous domain: {domain.continuous}\")\n",
    "print(f\"Discrete domain: {domain.discrete}\")\n",
    "print(f\"Categorical domain: {domain.categorical}\")\n",
    "print(f\"Constant domain: {domain.constant}\")\n"
   ]
  },
  {
   "cell_type": "markdown",
   "metadata": {},
   "source": [
    "---"
   ]
  },
  {
   "cell_type": "markdown",
   "metadata": {},
   "source": [
    "## Storing the `Domain` object\n",
    "\n",
    "The `Domain` object can be stored to disk using the `store` method. This method saves the domain object to a JSON file."
   ]
  },
  {
   "cell_type": "code",
   "execution_count": 18,
   "metadata": {},
   "outputs": [],
   "source": [
    "domain.store('my_domain.json')"
   ]
  },
  {
   "cell_type": "markdown",
   "metadata": {},
   "source": [
    "The `Domain` object can be loaded from disk using the `Domain.from_file` method:"
   ]
  },
  {
   "cell_type": "code",
   "execution_count": 19,
   "metadata": {},
   "outputs": [
    {
     "data": {
      "text/plain": [
       "Domain(input_space={'x0': ContinuousParameter(lower_bound=-1.0, upper_bound=1.0, log=False), 'x1': ContinuousParameter(lower_bound=-1.0, upper_bound=1.0, log=False)}, output_space={})"
      ]
     },
     "execution_count": 19,
     "metadata": {},
     "output_type": "execute_result"
    }
   ],
   "source": [
    "Domain.from_file('my_domain.json')"
   ]
  },
  {
   "cell_type": "markdown",
   "metadata": {},
   "source": [
    "---"
   ]
  },
  {
   "cell_type": "markdown",
   "metadata": {},
   "source": [
    "\n",
    "## Helper Function for Single-Objective, N-Dimensional Continuous Domains\n",
    "\n",
    "We can easily create an $n$-dimensional continuous domain with the helper function `make_nd_continuous_domain`. We have to specify the boundaries (bounds) for each of the dimensions with a list of lists or a NumPy `numpy.ndarray`:"
   ]
  },
  {
   "cell_type": "code",
   "execution_count": 15,
   "metadata": {},
   "outputs": [],
   "source": [
    "from f3dasm.design import make_nd_continuous_domain"
   ]
  },
  {
   "cell_type": "code",
   "execution_count": 16,
   "metadata": {},
   "outputs": [
    {
     "name": "stdout",
     "output_type": "stream",
     "text": [
      "Domain(\n",
      "  Input Space: { x0: ContinuousParameter(lower_bound=-1.0, upper_bound=1.0, log=False), x1: ContinuousParameter(lower_bound=-1.0, upper_bound=1.0, log=False) }\n",
      "  Output Space: {  }\n",
      ")\n"
     ]
    }
   ],
   "source": [
    "bounds = [[-1.0, 1.0], [-1.0, 1.0]]\n",
    "domain = make_nd_continuous_domain(bounds=bounds)\n",
    "\n",
    "print(domain)"
   ]
  }
 ],
 "metadata": {
  "kernelspec": {
   "display_name": "f3dasm_env3",
   "language": "python",
   "name": "python3"
  },
  "language_info": {
   "codemirror_mode": {
    "name": "ipython",
    "version": 3
   },
   "file_extension": ".py",
   "mimetype": "text/x-python",
   "name": "python",
   "nbconvert_exporter": "python",
   "pygments_lexer": "ipython3",
   "version": "3.8.17"
  }
 },
 "nbformat": 4,
 "nbformat_minor": 2
}
