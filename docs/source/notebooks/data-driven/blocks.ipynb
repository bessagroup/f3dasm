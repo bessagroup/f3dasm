{
 "cells": [
  {
   "cell_type": "markdown",
   "metadata": {},
   "source": [
    "# Blocks\n",
    "\n",
    "In the `f3dasm` framework, every component of the data-driven process is encapsulated as a `Block`. A block is an object designed to work with an `ExperimentData` instance. When invoked, it processes the data within the `ExperimentData` instance and produces a new `ExperimentData` instance. By chaining different blocks, you can construct a complete data-driven pipeline."
   ]
  },
  {
   "cell_type": "markdown",
   "metadata": {},
   "source": [
    "The block base class looks like this:\n",
    "\n",
    "```python\n",
    "\n",
    "class Block(ABC):\n",
    "    def arm(self, data: ExperimentData) -> None:\n",
    "        self.data = data\n",
    "\n",
    "    @abstractmethod\n",
    "    def call(self, **kwargs) -> ExperimentData:\n",
    "        pass\n",
    "\n",
    "```\n",
    "\n",
    "To create a new block, subclass the `Block` class and implement the `call` method. This method is executed when the block is invoked, accepting any keyword arguments and returning an `ExperimentData` instance. Before the `call` method runs, the `arm` method is used to equip the block with the `ExperimentData` instance it will process.\n"
   ]
  },
  {
   "cell_type": "markdown",
   "metadata": {},
   "source": [
    "<div style=\"text-align: center;\">\n",
    "    <img src=\"block.png\" alt=\"Block\" title=\"Block\" width=\"60%\" />\n",
    "</div>"
   ]
  },
  {
   "cell_type": "markdown",
   "metadata": {},
   "source": [
    "```python\n",
    "class CustomBlock(Block)\n",
    "    def call(self):\n",
    "        ...\n",
    "        # Any method that manipulates dthe experiments\n",
    "        ...\n",
    "        return self.data\n",
    "```"
   ]
  },
  {
   "cell_type": "markdown",
   "metadata": {},
   "source": [
    "\n",
    "In order to start the data-driven process, you need to create an `ExperimentData` instance and call the `run()` method of experiment data instance with the block object(s) you want to run."
   ]
  },
  {
   "cell_type": "markdown",
   "metadata": {},
   "source": [
    "```pyton\n",
    "custom_block = CustomBlock()\n",
    "\n",
    "experiment_data.run(block=custom_block)\n",
    "```"
   ]
  },
  {
   "cell_type": "markdown",
   "metadata": {},
   "source": [
    "Multiple blocks can be chained together by passing a list of blocks to the `run` method.\n",
    "\n",
    "```python\n",
    "experiment_data.run(block=[custom_block, another_custom_block])\n",
    "```"
   ]
  },
  {
   "cell_type": "markdown",
   "metadata": {},
   "source": [
    "<div style=\"text-align: center;\">\n",
    "    <img src=\"blocks.png\" alt=\"Blocks\" title=\"Blocks\" width=\"60%\" />\n",
    "</div>"
   ]
  },
  {
   "cell_type": "markdown",
   "metadata": {},
   "source": [
    "A single block or a list of blocks can be 'looped' over by passing them through the `f3dasm.loop` function. This function will return a new block that will run the original block(s) multiple times.\n",
    "\n",
    "```python\n",
    "\n",
    "from f3dasm import loop\n",
    "\n",
    "looped_block = loop(custom_block, n_loops=10)\n",
    "\n",
    "experiment_data.run(block=looped_block)\n",
    "```"
   ]
  },
  {
   "cell_type": "markdown",
   "metadata": {},
   "source": [
    "<div style=\"text-align: center;\">\n",
    "    <img src=\"blocks_loop.png\" alt=\"Block loop\" title=\"Block loop\" width=\"60%\" />\n",
    "</div>"
   ]
  }
 ],
 "metadata": {
  "kernelspec": {
   "display_name": "f3dasm_env3",
   "language": "python",
   "name": "python3"
  },
  "language_info": {
   "codemirror_mode": {
    "name": "ipython",
    "version": 3
   },
   "file_extension": ".py",
   "mimetype": "text/x-python",
   "name": "python",
   "nbconvert_exporter": "python",
   "pygments_lexer": "ipython3",
   "version": "3.8.17"
  }
 },
 "nbformat": 4,
 "nbformat_minor": 2
}
