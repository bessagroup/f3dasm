{
 "cells": [
  {
   "cell_type": "markdown",
   "metadata": {},
   "source": [
    "# Implementing a grid search sampler from scratch\n",
    "\n",
    "In this example, we will implement a [grid search sampler](https://en.wikipedia.org/wiki/Hyperparameter_optimization) from scratch. The grid search sampler is a simple sampler that evaluates all possible combinations of the parameters in the domain. This is useful for small domains, but it can become computationally expensive for larger domains. We will show how to create this sampler and use it in a `f3dasm` data-driven experiment."
   ]
  },
  {
   "cell_type": "code",
   "execution_count": 1,
   "metadata": {},
   "outputs": [
    {
     "name": "stderr",
     "output_type": "stream",
     "text": [
      "Invalid MIT-MAGIC-COOKIE-1 key"
     ]
    }
   ],
   "source": [
    "from __future__ import annotations\n",
    "\n",
    "from itertools import product\n",
    "from typing import Dict, Optional\n",
    "\n",
    "import numpy as np\n",
    "import pandas as pd\n",
    "\n",
    "from f3dasm import Block, ExperimentData\n",
    "from f3dasm.design import Domain"
   ]
  },
  {
   "cell_type": "markdown",
   "metadata": {},
   "source": [
    "When integrating your sampling strategy into the data-driven process, you have to create a new class that inherits from the `Block` base class."
   ]
  },
  {
   "cell_type": "code",
   "execution_count": 2,
   "metadata": {},
   "outputs": [],
   "source": [
    "class GridSampler(Block):\n",
    "    def __init__(self, stepsize_continuous_parameters: Optional[Dict[str, float]] = None):\n",
    "        self.stepsize_continuous_parameters = stepsize_continuous_parameters\n",
    "    def arm(self, data: ExperimentData):\n",
    "        # Extract only the continuous variables\n",
    "        continuous = data.domain.continuous\n",
    "        discrete = data.domain.discrete\n",
    "        categorical = data.domain.categorical\n",
    "        constant = data.domain.constant\n",
    "\n",
    "        self._iterdict = {}\n",
    "\n",
    "        if continuous.input_space:\n",
    "\n",
    "            discrete_space = {key: continuous.input_space[key].to_discrete(\n",
    "                step=value) for key,\n",
    "                value in self.stepsize_continuous_parameters.items()}\n",
    "\n",
    "            continuous = Domain(input_space=discrete_space)\n",
    "\n",
    "        for k, v in categorical.input_space.items():\n",
    "            self._iterdict[k] = v.categories\n",
    "\n",
    "        for k, v, in discrete.input_space.items():\n",
    "            self._iterdict[k] = range(v.lower_bound, v.upper_bound+1, v.step)\n",
    "\n",
    "        for k, v, in continuous.input_space.items():\n",
    "            self._iterdict[k] = np.arange(\n",
    "                start=v.lower_bound, stop=v.upper_bound, step=v.step)\n",
    "\n",
    "        for k, v, in constant.input_space.items():\n",
    "            self._iterdict[k] = [v.value]\n",
    "    def call(self, data: ExperimentData) -> ExperimentData:\n",
    "        df = pd.DataFrame(list(product(*self._iterdict.values())),\n",
    "                          columns=self._iterdict, dtype=object\n",
    "                          )[data.domain.input_names]\n",
    "\n",
    "        return ExperimentData(domain=data.domain,\n",
    "                               input_data=df)"
   ]
  },
  {
   "cell_type": "markdown",
   "metadata": {},
   "source": [
    "We will now sample the domain using the grid sampler we implemented.\n",
    "- First, we will create a domain with a mix of continuous, discrete, and categorical parameters to test our implementation."
   ]
  },
  {
   "cell_type": "code",
   "execution_count": 3,
   "metadata": {},
   "outputs": [],
   "source": [
    "domain = Domain()\n",
    "domain.add_float(\"param_1\", -1.0, 1.0)\n",
    "domain.add_int(\"param_2\", 1, 5)\n",
    "domain.add_category(\"param_3\", [\"red\", \"blue\", \"green\", \"yellow\", \"purple\"])"
   ]
  },
  {
   "cell_type": "markdown",
   "metadata": {},
   "source": [
    "- We create an `ExperimentData` object with the domain:"
   ]
  },
  {
   "cell_type": "code",
   "execution_count": 4,
   "metadata": {},
   "outputs": [],
   "source": [
    "experiment_data = ExperimentData(domain=domain)"
   ]
  },
  {
   "cell_type": "markdown",
   "metadata": {},
   "source": [
    "- Then, we can create a `GridSampler` block object:"
   ]
  },
  {
   "cell_type": "code",
   "execution_count": 5,
   "metadata": {},
   "outputs": [],
   "source": [
    "grid_sampler = GridSampler(stepsize_continuous_parameters={\"param_1\": 0.1})"
   ]
  },
  {
   "cell_type": "markdown",
   "metadata": {},
   "source": [
    "- We `arm` the sampler with the `ExperimentData` object:"
   ]
  },
  {
   "cell_type": "code",
   "execution_count": 6,
   "metadata": {},
   "outputs": [],
   "source": [
    "grid_sampler.arm(experiment_data)"
   ]
  },
  {
   "cell_type": "markdown",
   "metadata": {},
   "source": [
    "- Lastly, we call the grids sampler with the created `ExperimentData`:"
   ]
  },
  {
   "cell_type": "code",
   "execution_count": 7,
   "metadata": {},
   "outputs": [
    {
     "data": {
      "text/html": [
       "<div>\n",
       "<style scoped>\n",
       "    .dataframe tbody tr th:only-of-type {\n",
       "        vertical-align: middle;\n",
       "    }\n",
       "\n",
       "    .dataframe tbody tr th {\n",
       "        vertical-align: top;\n",
       "    }\n",
       "\n",
       "    .dataframe thead tr th {\n",
       "        text-align: left;\n",
       "    }\n",
       "</style>\n",
       "<table border=\"1\" class=\"dataframe\">\n",
       "  <thead>\n",
       "    <tr>\n",
       "      <th></th>\n",
       "      <th>jobs</th>\n",
       "      <th colspan=\"3\" halign=\"left\">input</th>\n",
       "    </tr>\n",
       "    <tr>\n",
       "      <th></th>\n",
       "      <th></th>\n",
       "      <th>param_1</th>\n",
       "      <th>param_2</th>\n",
       "      <th>param_3</th>\n",
       "    </tr>\n",
       "  </thead>\n",
       "  <tbody>\n",
       "    <tr>\n",
       "      <th>0</th>\n",
       "      <td>open</td>\n",
       "      <td>-1.0</td>\n",
       "      <td>1</td>\n",
       "      <td>red</td>\n",
       "    </tr>\n",
       "    <tr>\n",
       "      <th>1</th>\n",
       "      <td>open</td>\n",
       "      <td>-0.9</td>\n",
       "      <td>1</td>\n",
       "      <td>red</td>\n",
       "    </tr>\n",
       "    <tr>\n",
       "      <th>2</th>\n",
       "      <td>open</td>\n",
       "      <td>-0.8</td>\n",
       "      <td>1</td>\n",
       "      <td>red</td>\n",
       "    </tr>\n",
       "    <tr>\n",
       "      <th>3</th>\n",
       "      <td>open</td>\n",
       "      <td>-0.7</td>\n",
       "      <td>1</td>\n",
       "      <td>red</td>\n",
       "    </tr>\n",
       "    <tr>\n",
       "      <th>4</th>\n",
       "      <td>open</td>\n",
       "      <td>-0.6</td>\n",
       "      <td>1</td>\n",
       "      <td>red</td>\n",
       "    </tr>\n",
       "    <tr>\n",
       "      <th>...</th>\n",
       "      <td>...</td>\n",
       "      <td>...</td>\n",
       "      <td>...</td>\n",
       "      <td>...</td>\n",
       "    </tr>\n",
       "    <tr>\n",
       "      <th>495</th>\n",
       "      <td>open</td>\n",
       "      <td>0.5</td>\n",
       "      <td>5</td>\n",
       "      <td>purple</td>\n",
       "    </tr>\n",
       "    <tr>\n",
       "      <th>496</th>\n",
       "      <td>open</td>\n",
       "      <td>0.6</td>\n",
       "      <td>5</td>\n",
       "      <td>purple</td>\n",
       "    </tr>\n",
       "    <tr>\n",
       "      <th>497</th>\n",
       "      <td>open</td>\n",
       "      <td>0.7</td>\n",
       "      <td>5</td>\n",
       "      <td>purple</td>\n",
       "    </tr>\n",
       "    <tr>\n",
       "      <th>498</th>\n",
       "      <td>open</td>\n",
       "      <td>0.8</td>\n",
       "      <td>5</td>\n",
       "      <td>purple</td>\n",
       "    </tr>\n",
       "    <tr>\n",
       "      <th>499</th>\n",
       "      <td>open</td>\n",
       "      <td>0.9</td>\n",
       "      <td>5</td>\n",
       "      <td>purple</td>\n",
       "    </tr>\n",
       "  </tbody>\n",
       "</table>\n",
       "<p>500 rows × 4 columns</p>\n",
       "</div>"
      ],
      "text/plain": [
       "     jobs   input                \n",
       "          param_1 param_2 param_3\n",
       "0    open    -1.0       1     red\n",
       "1    open    -0.9       1     red\n",
       "2    open    -0.8       1     red\n",
       "3    open    -0.7       1     red\n",
       "4    open    -0.6       1     red\n",
       "..    ...     ...     ...     ...\n",
       "495  open     0.5       5  purple\n",
       "496  open     0.6       5  purple\n",
       "497  open     0.7       5  purple\n",
       "498  open     0.8       5  purple\n",
       "499  open     0.9       5  purple\n",
       "\n",
       "[500 rows x 4 columns]"
      ]
     },
     "execution_count": 7,
     "metadata": {},
     "output_type": "execute_result"
    }
   ],
   "source": [
    "experiment_data = grid_sampler.call(experiment_data)\n",
    "experiment_data"
   ]
  },
  {
   "cell_type": "code",
   "execution_count": null,
   "metadata": {},
   "outputs": [],
   "source": []
  }
 ],
 "metadata": {
  "kernelspec": {
   "display_name": "f3dasm_env3",
   "language": "python",
   "name": "python3"
  },
  "language_info": {
   "codemirror_mode": {
    "name": "ipython",
    "version": 3
   },
   "file_extension": ".py",
   "mimetype": "text/x-python",
   "name": "python",
   "nbconvert_exporter": "python",
   "pygments_lexer": "ipython3",
   "version": "3.8.17"
  }
 },
 "nbformat": 4,
 "nbformat_minor": 2
}
