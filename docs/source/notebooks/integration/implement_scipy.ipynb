{
 "cells": [
  {
   "cell_type": "markdown",
   "id": "a2ef757c",
   "metadata": {},
   "source": [
    "# Implementing a port to scipy optimizers\n",
    "\n",
    "The following notebook will guide you through the process of implementing a port to `scipy` optimizers in the f3dasm framework. We will cover how to use `scipy.optimize.minimize` to optimize a given function, and how to integrate this with the f3dasm data generation and optimization framework. This notebook intents to provide a clear and concise example of how to implement a custom optimization block."
   ]
  },
  {
   "cell_type": "code",
   "execution_count": null,
   "id": "ebd67693",
   "metadata": {},
   "outputs": [],
   "source": [
    "from f3dasm import Block, ExperimentData\n",
    "from f3dasm.design import Domain\n",
    "from f3dasm.datageneration import DataGenerator\n",
    "from typing import Optional, Callable\n",
    "import numpy as np"
   ]
  },
  {
   "cell_type": "markdown",
   "id": "5e912cff",
   "metadata": {},
   "source": [
    "The `scipy.optimize.minimize` contains a wide range of optimization algorithms, which can be used to minimize a given function. In order to use these optimizers within the `f3dasm` framework, we need to implement a custom block that wraps the `scipy.optimize.minimize` function. This block will handle the optimization process and integrate it with the data generation and optimization framework of `f3dasm`."
   ]
  },
  {
   "cell_type": "code",
   "execution_count": null,
   "id": "c0c8f9b1",
   "metadata": {},
   "outputs": [],
   "source": [
    "import scipy.optimize"
   ]
  },
  {
   "cell_type": "markdown",
   "id": "628a51ee",
   "metadata": {},
   "source": [
    "## Writing the callback function\n",
    "\n",
    "The `scipy.optimize.minimize` function allows us to pass a callback function that will be called at each iteration of the optimization process. This callback function can be used to store the intermediate results of the optimization, which can then be used for analysis or visualization.\n",
    "\n",
    "```python\n",
    "def callback(intermediate_result: scipy.optimize.OptimizeResult\n",
    "                ) -> None:\n",
    "    history_x.append(\n",
    "        {input_name: intermediate_result.x for input_name\n",
    "            in data.domain.input_names})\n",
    "    history_y.append(\n",
    "        {self.output_name: intermediate_result.fun})\n",
    "```\n",
    "\n",
    "We can initialize the two lists, `history_x` and `history_y`, to store the input and output values at each iteration. The `intermediate_result` object contains the current state of the optimization, including the current input values (`x`) and the current output value (`fun`).\n",
    "As you can see, the names of the parameters are taken from the `data.domain.input_names` and the output name is taken from `self.output_name`. This allows us to store the results in a structured way, which can be easily accessed later."
   ]
  },
  {
   "cell_type": "markdown",
   "id": "839c18c3",
   "metadata": {},
   "source": [
    "## Implementing the `arm` method\n",
    "\n",
    "The `arm` method of the `Block` will take arguments the `DataGenerator` and the `ExperimentData`, for which the latter will be used to extract the last `ExperimentSample` as the initial point of the optimization. The `arm` method will also take an optional `grad_f` argument, which can be used to provide the gradient of the function to be optimized.\n",
    "\n",
    "```python\n",
    "def arm(self, data: ExperimentData, data_generator: DataGenerator,\n",
    "        output_name: str):\n",
    "\n",
    "    self.data_generator = data_generator\n",
    "\n",
    "    self.output_name = output_name\n",
    "    input_name = data.domain.input_names[0]\n",
    "    experiment_sample = data.get_experiment_sample(data.index[-1])\n",
    "    self._x0 = experiment_sample.input_data[input_name]\n",
    "```"
   ]
  },
  {
   "cell_type": "markdown",
   "id": "2a67a489",
   "metadata": {},
   "source": [
    "## Implementing the `call` method\n",
    "\n",
    "The `call` method of the `Block` will optimize with the given method and the initial point, and will return the `ExperimentData` with the results of the optimization. The `scipy.optimize.minimize` function will be called with the `fun` argument set to the function to be optimized, and the `x0` argument set to the initial point. The `callback` function will be passed as an argument to store the intermediate results.\n",
    "\n",
    "```python\n",
    "def call(self, data: ExperimentData, n_iterations: Optional[int] = None,\n",
    "            grad_f: Optional[Callable] = None, **kwargs) -> ExperimentData:\n",
    "    history_x, history_y = [], []\n",
    "\n",
    "    def callback(intermediate_result: scipy.optimize.OptimizeResult,\n",
    "                    input_name: str, output_name: str\n",
    "                    ) -> None:\n",
    "        history_x.append(\n",
    "            {input_name: intermediate_result.x for input_name\n",
    "                in data.domain.input_names})\n",
    "        history_y.append(\n",
    "            {self.output_name: intermediate_result.fun})\n",
    "\n",
    "    _ = scipy.optimize.minimize(\n",
    "        fun=self.data_generator.f,\n",
    "        x0=self._x0,\n",
    "        method=self.method,\n",
    "        jac=grad_f,\n",
    "        bounds=self.bounds,\n",
    "        options={**self.hyperparameters},\n",
    "        callback=callback,\n",
    "    )\n",
    "\n",
    "    return ExperimentData(\n",
    "        domain=data.domain,\n",
    "        input_data=history_x,\n",
    "        output_data=history_y,\n",
    "        project_dir=data.project_dir)\n",
    "```"
   ]
  },
  {
   "cell_type": "markdown",
   "id": "e28c52f0",
   "metadata": {},
   "source": [
    "## Putting it all together\n",
    "\n",
    "The complete implementation looks like this:"
   ]
  },
  {
   "cell_type": "code",
   "execution_count": null,
   "id": "5383177a",
   "metadata": {},
   "outputs": [],
   "source": [
    "class ScipyOptimizer(Block):\n",
    "    def __init__(self, method: str,\n",
    "                 bounds: Optional[scipy.optimize.Bounds] = None,\n",
    "                 **hyperparameters):\n",
    "        self.bounds = bounds\n",
    "        self.method = method\n",
    "        self.hyperparameters = hyperparameters\n",
    "\n",
    "    def arm(self, data: ExperimentData, data_generator: DataGenerator,\n",
    "            output_name: str):\n",
    "\n",
    "        self.data_generator = data_generator\n",
    "\n",
    "        self.output_name = output_name\n",
    "        input_name = data.domain.input_names[0]\n",
    "        experiment_sample = data.get_experiment_sample(data.index[-1])\n",
    "        self._x0 = experiment_sample.input_data[input_name]\n",
    "\n",
    "    def call(self, data: ExperimentData, n_iterations: Optional[int] = None,\n",
    "             grad_f: Optional[Callable] = None, **kwargs) -> ExperimentData:\n",
    "        history_x, history_y = [], []\n",
    "\n",
    "        def callback(intermediate_result: scipy.optimize.OptimizeResult,\n",
    "                     ) -> None:\n",
    "            history_x.append(\n",
    "                {input_name: intermediate_result.x for input_name\n",
    "                 in data.domain.input_names})\n",
    "            history_y.append(\n",
    "                {self.output_name: intermediate_result.fun})\n",
    "\n",
    "        _ = scipy.optimize.minimize(\n",
    "            fun=self.data_generator.f,\n",
    "            x0=self._x0,\n",
    "            method=self.method,\n",
    "            jac=grad_f,\n",
    "            bounds=self.bounds,\n",
    "            options={**self.hyperparameters},\n",
    "            callback=callback,\n",
    "        )\n",
    "\n",
    "        return ExperimentData(\n",
    "            domain=data.domain,\n",
    "            input_data=history_x,\n",
    "            output_data=history_y,\n",
    "            project_dir=data.project_dir)"
   ]
  },
  {
   "cell_type": "markdown",
   "id": "fa7ba957",
   "metadata": {},
   "source": [
    "## Example implementation"
   ]
  },
  {
   "cell_type": "code",
   "execution_count": null,
   "id": "53064087",
   "metadata": {},
   "outputs": [],
   "source": [
    "from f3dasm import datagenerator\n",
    "from f3dasm import create_sampler\n",
    "\n",
    "\n",
    "# Create a simple data generator function\n",
    "# that computes y = 0.5 * sum(x^4 - 16 * x^2 + 5 * x)\n",
    "# This will be used to evaluate the samples generated by the optimizer.\n",
    "@datagenerator(output_names='y')\n",
    "def f(x: np.ndarray):\n",
    "    y = 0.5 * np.sum(x**4 - 16 * x**2 + 5 * x)\n",
    "    return y\n",
    "\n",
    "\n",
    "\n",
    "# Create your custom OptunaOptimizer and give it the optuna sampler.\n",
    "optimizer = ScipyOptimizer(\n",
    "    method='cg'\n",
    ")\n",
    "\n",
    "# Initialize the domain and experiment data\n",
    "domain = Domain()\n",
    "domain.add_array(name='x', shape=(10,), low=-10, high=10)\n",
    "domain.add_output('y')\n",
    "data = ExperimentData(domain=domain)\n",
    "\n",
    "# Sample random initial points\n",
    "sampler = create_sampler('random')\n",
    "data = sampler.call(data, n_samples=1)\n",
    "\n",
    "# Evaluate the initial points using the data generator\n",
    "f.arm(data)\n",
    "data = f.call(data)\n",
    "\n",
    "# Arm the optimizer with the experiment data and data generator\n",
    "optimizer.arm(data, data_generator=f, output_name='y')\n",
    "\n",
    "# Run the optimization for a specified number of iterations\n",
    "data += optimizer.call(data, n_iterations=10)"
   ]
  },
  {
   "cell_type": "code",
   "execution_count": null,
   "id": "5ea0b699",
   "metadata": {},
   "outputs": [],
   "source": [
    "data"
   ]
  }
 ],
 "metadata": {
  "kernelspec": {
   "display_name": "f3dasm",
   "language": "python",
   "name": "python3"
  },
  "language_info": {
   "codemirror_mode": {
    "name": "ipython",
    "version": 3
   },
   "file_extension": ".py",
   "mimetype": "text/x-python",
   "name": "python",
   "nbconvert_exporter": "python",
   "pygments_lexer": "ipython3",
   "version": "3.10.18"
  }
 },
 "nbformat": 4,
 "nbformat_minor": 5
}
