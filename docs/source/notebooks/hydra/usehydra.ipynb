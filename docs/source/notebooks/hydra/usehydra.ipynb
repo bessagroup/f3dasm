{
 "cells": [
  {
   "cell_type": "markdown",
   "metadata": {},
   "source": [
    "# Combining hydra configurations with `f3dasm`\n",
    "\n",
    "[hydra](https://hydra.cc/) is an open-source configuration management framework that is widely used in machine learning and other software development domains. It is designed to help developers manage and organize complex configuration settings for their projects, making it easier to experiment with different configurations, manage multiple environments, and maintain reproducibility in their work.\n",
    "\n",
    "[hydra](https://hydra.cc/) can be seamlessly integrated with the worfklows in f3dasm to manage the configuration settings for the project."
   ]
  },
  {
   "cell_type": "code",
   "execution_count": 1,
   "metadata": {},
   "outputs": [],
   "source": [
    "from hydra import compose, initialize\n",
    "\n",
    "from f3dasm import ExperimentData\n",
    "from f3dasm.design import Domain"
   ]
  },
  {
   "cell_type": "markdown",
   "metadata": {},
   "source": [
    "## `Domain` from a [hydra](https://hydra.cc/) configuration file\n",
    "\n",
    "If you are using [hydra](https://hydra.cc/) to manage your configuration files, you can create a `Domain` from a configuration file. Your config needs to have a key (e.g. `'domain'`) that has two keys: `'input_space'` and `'output_space'`. Each design space dictionary can have parameter names (e.g. `'param_1'`) as keys and a dictionary with an optional parameter type (`'type'`) and the corresponding arguments as values:"
   ]
  },
  {
   "cell_type": "markdown",
   "metadata": {},
   "source": [
    "```yaml\n",
    "domain:\n",
    "  input:\n",
    "    param_1:\n",
    "      type: float\n",
    "      low: -1.0\n",
    "      high: 1.0\n",
    "    param_2:\n",
    "      type: int\n",
    "      low: 1\n",
    "      high: 10\n",
    "    param_3:\n",
    "      type: category\n",
    "      categories: ['red', 'blue', 'green', 'yellow', 'purple']\n",
    "    param_4:\n",
    "      type: constant\n",
    "      value: some_value\n",
    "  output:\n",
    "    y:\n",
    "      to_disk: False\n",
    "```"
   ]
  },
  {
   "cell_type": "markdown",
   "metadata": {},
   "source": [
    "In order to run the following code snippet, you need to have a configuration file named `'config.yaml'` in the current working directory."
   ]
  },
  {
   "cell_type": "markdown",
   "metadata": {},
   "source": [
    "```python\n",
    "with initialize(version_base=None, config_path=\".\"):\n",
    "    config = compose(config_name=\"config\")\n",
    "\n",
    "domain = Domain.from_yaml(config.domain)\n",
    "```"
   ]
  },
  {
   "cell_type": "markdown",
   "metadata": {},
   "source": [
    "## `ExperimentData` from a [hydra](https://hydra.cc/) configuration file"
   ]
  },
  {
   "cell_type": "markdown",
   "metadata": {},
   "source": [
    "If you are using [hydra](https://hydra.cc/) for configuring your experiments, you can use it to construct an `ExperimentData` object from the information in the `'config.yaml'` file with the `from_yaml()` method:"
   ]
  },
  {
   "cell_type": "markdown",
   "metadata": {},
   "source": [
    "### `ExperimentData` from file\n",
    "\n",
    "You can create an `ExperimentData` object in the same way as the `from_file()` method, but with the `'from_file'` key in the `'config.yaml'` file:\n",
    "\n",
    "```yaml\n",
    "experimentdata:\n",
    "    from_file: ./example_project_dir\n",
    "```"
   ]
  },
  {
   "cell_type": "markdown",
   "metadata": {},
   "source": [
    "```python\n",
    "\n",
    "with initialize(version_base=None, config_path=\".\"):\n",
    "    config = compose(config_name=\"config\")\n",
    "\n",
    "\n",
    "experiment_data = ExperimentData.from_yaml(config.experimentdata)\n",
    "```"
   ]
  },
  {
   "cell_type": "markdown",
   "metadata": {},
   "source": [
    "## `ExperimentData` from sampling with [hydra](https://hydra.cc/)\n",
    "\n",
    "To create the `ExperimentData` object with the `from_sampling()` method, you can use the following configuration:\n",
    "\n",
    "```yaml\n",
    "domain:\n",
    "  input:\n",
    "    param_1:\n",
    "      type: float\n",
    "      low: -1.0\n",
    "      high: 1.0\n",
    "    param_2:\n",
    "      type: int\n",
    "      low: 1\n",
    "      high: 10\n",
    "    param_3:\n",
    "      type: category\n",
    "      categories: ['red', 'blue', 'green', 'yellow', 'purple']\n",
    "    param_4:\n",
    "      type: constant\n",
    "      value: some_value\n",
    "  output:\n",
    "    y:\n",
    "      to_disk: False\n",
    "\n",
    "experimentdata:\n",
    "    from_sampling:\n",
    "        domain: ${domain}\n",
    "        sampler: random\n",
    "        seed: 1\n",
    "        n_samples: 1\n",
    "```"
   ]
  },
  {
   "cell_type": "markdown",
   "metadata": {},
   "source": [
    "```python\n",
    "\n",
    "with initialize(version_base=None, config_path=\".\"):\n",
    "    config = compose(config_name=\"config\")\n",
    "\n",
    "experiment_data = ExperimentData.from_yaml(config.experimentdata)\n",
    "```"
   ]
  },
  {
   "cell_type": "markdown",
   "metadata": {},
   "source": [
    "> You can also combine both approaches to create the `ExperimentData` object by continuing an existing experiment with new samples. This can be done by providing both keys `'from_sampling'` and '`from_file'`"
   ]
  }
 ],
 "metadata": {
  "kernelspec": {
   "display_name": "f3dasm_env3",
   "language": "python",
   "name": "python3"
  },
  "language_info": {
   "codemirror_mode": {
    "name": "ipython",
    "version": 3
   },
   "file_extension": ".py",
   "mimetype": "text/x-python",
   "name": "python",
   "nbconvert_exporter": "python",
   "pygments_lexer": "ipython3",
   "version": "3.8.17"
  }
 },
 "nbformat": 4,
 "nbformat_minor": 2
}
