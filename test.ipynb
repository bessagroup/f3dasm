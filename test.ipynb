{
 "cells": [
  {
   "cell_type": "code",
   "execution_count": 1,
   "metadata": {},
   "outputs": [],
   "source": [
    "from pathlib import Path"
   ]
  },
  {
   "cell_type": "code",
   "execution_count": 2,
   "metadata": {},
   "outputs": [
    {
     "data": {
      "text/plain": [
       "PosixPath('/home/martin/Documents/GitHub/F3DASM')"
      ]
     },
     "execution_count": 2,
     "metadata": {},
     "output_type": "execute_result"
    }
   ],
   "source": [
    "here =  Path('.').absolute()\n",
    "here"
   ]
  },
  {
   "cell_type": "code",
   "execution_count": 3,
   "metadata": {},
   "outputs": [],
   "source": [
    "def read_requirements(file: str):\n",
    "\n",
    "    with open(here.joinpath(\"requirements\", f\"{file}.txt\"), \"r\", encoding=\"utf-8\") as f:\n",
    "        requirements = f.read().splitlines()\n",
    "\n",
    "    return requirements"
   ]
  },
  {
   "cell_type": "code",
   "execution_count": 4,
   "metadata": {},
   "outputs": [
    {
     "data": {
      "text/plain": [
       "['numpy',\n",
       " 'scipy',\n",
       " 'pandas',\n",
       " 'matplotlib',\n",
       " 'SALib',\n",
       " 'hypothesis',\n",
       " 'GPyOpt>=1.2.6',\n",
       " 'GPy>=1.10.0',\n",
       " 'autograd',\n",
       " 'numdifftools>=0.9.41',\n",
       " 'tensorflow>=2.11.0',\n",
       " 'pathos>=0.3.0',\n",
       " 'pytest>=7.2.0',\n",
       " 'scikit-learn',\n",
       " 'hydra-core>=1.2.0',\n",
       " 'seaborn>=0.6.2',\n",
       " 'pygmo; platform_system == \"Linux\"']"
      ]
     },
     "execution_count": 4,
     "metadata": {},
     "output_type": "execute_result"
    }
   ],
   "source": [
    "read_requirements('requirements')"
   ]
  },
  {
   "cell_type": "code",
   "execution_count": 5,
   "metadata": {},
   "outputs": [],
   "source": [
    "# version\n",
    "version_data = {}\n",
    "with open(here.joinpath(\"src\", \"f3dasm\", \"VERSION\"), \"r\") as f:\n",
    "    version = f.read()"
   ]
  },
  {
   "cell_type": "code",
   "execution_count": 6,
   "metadata": {},
   "outputs": [
    {
     "data": {
      "text/plain": [
       "'0.2.97'"
      ]
     },
     "execution_count": 6,
     "metadata": {},
     "output_type": "execute_result"
    }
   ],
   "source": [
    "version"
   ]
  },
  {
   "cell_type": "code",
   "execution_count": null,
   "metadata": {},
   "outputs": [],
   "source": []
  }
 ],
 "metadata": {
  "kernelspec": {
   "display_name": "Python 3.8.15 ('f3dasm_env3')",
   "language": "python",
   "name": "python3"
  },
  "language_info": {
   "codemirror_mode": {
    "name": "ipython",
    "version": 3
   },
   "file_extension": ".py",
   "mimetype": "text/x-python",
   "name": "python",
   "nbconvert_exporter": "python",
   "pygments_lexer": "ipython3",
   "version": "3.8.15"
  },
  "orig_nbformat": 4,
  "vscode": {
   "interpreter": {
    "hash": "03276761335d5ee93b82dc97db1addd68180a543fb0cacb8af76ec058b1972b7"
   }
  }
 },
 "nbformat": 4,
 "nbformat_minor": 2
}
