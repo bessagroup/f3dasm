{
 "cells": [
  {
   "cell_type": "code",
   "execution_count": null,
   "metadata": {},
   "outputs": [],
   "source": [
    "import f3dasm  ##TODO: ask about augmentor\n",
    "import numpy as np\n",
    "\n",
    "dim = 1\n",
    "\n",
    "base_fun = f3dasm.functions.Ackley(\n",
    "    dimensionality=dim,\n",
    "    scale_bounds=np.tile([0.0, 1.0], (dim, 1)),\n",
    "    )\n",
    "\n",
    "noise_augmentor = f3dasm.functions.Noise(noise=0.5)\n",
    "f3dasm.functions.FunctionAugmentor"
   ]
  }
 ],
 "metadata": {
  "kernelspec": {
   "display_name": "Python 3.10.6 ('f3dasm_env')",
   "language": "python",
   "name": "python3"
  },
  "language_info": {
   "name": "python",
   "version": "3.10.6"
  },
  "orig_nbformat": 4,
  "vscode": {
   "interpreter": {
    "hash": "a9d896b1e26959336e7f4be8af34f758934959c162bfe59669aabbaab50cee31"
   }
  }
 },
 "nbformat": 4,
 "nbformat_minor": 2
}
